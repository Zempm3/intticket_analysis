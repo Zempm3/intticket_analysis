{
 "cells": [
  {
   "cell_type": "code",
   "execution_count": 73,
   "metadata": {},
   "outputs": [],
   "source": [
    "import numpy as np\n",
    "import matplotlib.pyplot as plt\n",
    "import pandas as pd\n",
    "from tensorflow.keras.preprocessing.text import Tokenizer\n",
    "from sklearn.datasets import fetch_20newsgroups\n",
    "from nltk.corpus import stopwords\n",
    "from nltk.tokenize import word_tokenize\n",
    "from nltk.stem import PorterStemmer\n",
    "from nltk.tokenize import RegexpTokenizer\n",
    "import nltk\n",
    "from statistics import mean\n",
    "from collections import Counter"
   ]
  },
  {
   "cell_type": "code",
   "execution_count": 74,
   "metadata": {},
   "outputs": [],
   "source": [
    "# read in data - here I took the same categories as we had in the lesson\n",
    "categories = ['soc.religion.christian', 'comp.graphics', 'sci.med', 'comp.windows.x', 'sci.space', 'alt.atheism']\n",
    "newsgroup_train = fetch_20newsgroups(subset='train', categories=categories, shuffle=True)\n",
    "newsgroup_test = fetch_20newsgroups(subset='test', categories=categories)"
   ]
  },
  {
   "cell_type": "code",
   "execution_count": 75,
   "metadata": {},
   "outputs": [
    {
     "name": "stdout",
     "output_type": "stream",
     "text": [
      "{'any', 'there', 'does', 'aren', 'no', 'whom', 'won', 'articl', 'these', 'which', 'to', 'doesn', 'at', 'but', 'against', 'before', 'when', 'he', 'are', 'o', 'her', 'see', 'or', 'this', 'himself', 'did', 'hers', 'had', 'own', 'i', 'same', \"don't\", 's', 'for', 'given', \"you'd\", 'yours', 'weren', 'feel', 'haven', 'once', 'through', 'here', 'me', 'by', 'm', \"won't\", 'off', 'mightn', \"should've\", 'down', \"needn't\", 'think', 't', 'view', 'you', 'as', 'him', 'it', 'because', 'where', 'only', 'she', \"doesn't\", 'were', 'most', 'they', 'say', 'too', 'll', 'if', \"weren't\", 'ma', \"didn't\", 're', 'ours', 'other', 'isn', 'between', 'the', 'those', 'find', 'y', 'and', 'each', 'his', 'in', 'both', 'over', \"haven't\", 'until', 'more', 'itself', 'be', 'ain', 'either', 'after', \"aren't\", 'should', 'wasn', 'up', \"hasn't\", 'ourselves', 'above', 'will', 'below', 'nor', 'shouldn', 'now', \"couldn't\", 'yourselves', 'then', 'yet', 'from', \"that'll\", 'their', \"you're\", 'your', 'having', 'all', 'couldn', 'so', 'subject', 've', 'however', 'would', 'out', 'don', 'yourself', 'shan', \"wouldn't\", 'my', 'during', 'has', 'of', 'few', 'such', \"she's\", 'how', 'can', 'one', 'didn', \"you'll\", 'just', \"shan't\", 'our', 'them', 'myself', 'with', 'being', \"hadn't\", \"mightn't\", \"shouldn't\", 'mustn', 'have', 'under', 'was', 'further', 'is', 'than', 'why', 'hadn', 'a', 'd', 'been', 'wouldn', 'led', 'themselves', 'we', 'into', 'made', \"isn't\", 'needn', \"mustn't\", 'theirs', 'that', 'about', 'am', \"wasn't\", 'who', 'on', 'very', 'while', \"you've\", 'again', 'what', 'do', 'its', 'not', 'way', 'some', 'hasn', 'fnal', 'doing', 'an', \"it's\", 'herself'}\n"
     ]
    }
   ],
   "source": [
    "# add stopwords\n",
    "stop_words = set(stopwords.words('english'))\n",
    "stop_words.update(['find','would','be','one','say','made','think','subject','see','fnal','articl','feel','given','led',\n",
    "                  'view','way','either','however','yet'])\n",
    "print(stop_words)"
   ]
  },
  {
   "cell_type": "code",
   "execution_count": 77,
   "metadata": {},
   "outputs": [],
   "source": [
    "# get rid of stop words\n",
    "# stemming\n",
    "ps = PorterStemmer()\n",
    "tokenizer = RegexpTokenizer(r'\\w+')\n",
    "\n",
    "newsgroup_trainN = []\n",
    "i = 0\n",
    "for message in newsgroup_train.data:\n",
    "    text_token = tokenizer.tokenize(message)\n",
    "    messageN = ''\n",
    "    for word in text_token:\n",
    "        word = word.lower()\n",
    "        if word not in stop_words:\n",
    "            messageN = messageN + ' ' + word\n",
    "    newsgroup_trainN.append(messageN)\n",
    "newsgroup_train.data = newsgroup_trainN"
   ]
  },
  {
   "cell_type": "code",
   "execution_count": 78,
   "metadata": {},
   "outputs": [
    {
     "name": "stdout",
     "output_type": "stream",
     "text": [
      "47668\n"
     ]
    }
   ],
   "source": [
    "# comparison vocabulary with and without stemming\n",
    "# tokenize words\n",
    "tokenizer = Tokenizer(num_words=1000)\n",
    "tokenizer.fit_on_texts(newsgroup_train.data)\n",
    "\n",
    "# get size of vocabulary \n",
    "# 1 needs to be added because of reserve 0 index\n",
    "vocab_size = len(tokenizer.word_index) + 1\n",
    "print(vocab_size)"
   ]
  },
  {
   "cell_type": "code",
   "execution_count": 79,
   "metadata": {},
   "outputs": [],
   "source": [
    "# count number of words\n",
    "number_words_wo_stem = []\n",
    "for message in newsgroup_train.data:\n",
    "    count = len(message.split())\n",
    "    number_words_wo_stem.append(count)"
   ]
  },
  {
   "cell_type": "code",
   "execution_count": 81,
   "metadata": {},
   "outputs": [
    {
     "data": {
      "image/png": "[encoded data removed]",
      "text/plain": [
       "<Figure size 432x288 with 1 Axes>"
      ]
     },
     "metadata": {
      "needs_background": "light"
     },
     "output_type": "display_data"
    }
   ],
   "source": [
    "# plot histogram without stemming\n",
    "plt.hist(number_words_wo_stem,bins=100)\n",
    "plt.show()"
   ]
  },
  {
   "cell_type": "code",
   "execution_count": 82,
   "metadata": {},
   "outputs": [
    {
     "data": {
      "image/png": "[encoded data removed]",
      "text/plain": [
       "<Figure size 432x288 with 1 Axes>"
      ]
     },
     "metadata": {
      "needs_background": "light"
     },
     "output_type": "display_data"
    }
   ],
   "source": [
    "plt.hist(number_words_wo_stem,bins=100,range=(0,1000))\n",
    "plt.show()"
   ]
  },
  {
   "cell_type": "code",
   "execution_count": 83,
   "metadata": {},
   "outputs": [
    {
     "name": "stdout",
     "output_type": "stream",
     "text": [
      "Average number of words:\n",
      "189.64246296834156\n"
     ]
    }
   ],
   "source": [
    "print(\"Average number of words:\")\n",
    "print(mean(number_words_wo_stem))"
   ]
  },
  {
   "cell_type": "code",
   "execution_count": 84,
   "metadata": {},
   "outputs": [],
   "source": [
    "# get rid of stop words\n",
    "# do stemming\n",
    "ps = PorterStemmer()\n",
    "tokenizer = RegexpTokenizer(r'\\w+')\n",
    "\n",
    "newsgroup_trainN = []\n",
    "i = 0\n",
    "for message in newsgroup_train.data:\n",
    "    text_token = tokenizer.tokenize(message)\n",
    "    messageN = ''\n",
    "    for word in text_token:\n",
    "        word = word.lower()\n",
    "        if word not in stop_words:\n",
    "            messageN = messageN + ' ' + ps.stem(word)\n",
    "    newsgroup_trainN.append(messageN)\n",
    "newsgroup_train.data = newsgroup_trainN"
   ]
  },
  {
   "cell_type": "code",
   "execution_count": 85,
   "metadata": {},
   "outputs": [
    {
     "name": "stdout",
     "output_type": "stream",
     "text": [
      "37279\n"
     ]
    }
   ],
   "source": [
    "# comparison vocabulary with and without stemming\n",
    "# tokenize words\n",
    "tokenizer = Tokenizer(num_words=1000)\n",
    "tokenizer.fit_on_texts(newsgroup_train.data)\n",
    "\n",
    "# get size of vocabulary \n",
    "# 1 needs to be added because of reserve 0 index\n",
    "vocab_size = len(tokenizer.word_index) + 1\n",
    "print(vocab_size)"
   ]
  },
  {
   "cell_type": "code",
   "execution_count": 86,
   "metadata": {},
   "outputs": [
    {
     "data": {
      "image/png": "[encoded data removed]",
      "text/plain": [
       "<Figure size 432x288 with 1 Axes>"
      ]
     },
     "metadata": {
      "needs_background": "light"
     },
     "output_type": "display_data"
    }
   ],
   "source": [
    "# plot histogram with stemming\n",
    "plt.hist(number_words_w_stem, bins=100)\n",
    "plt.show()"
   ]
  },
  {
   "cell_type": "code",
   "execution_count": 69,
   "metadata": {},
   "outputs": [
    {
     "data": {
      "image/png": "[encoded data removed]",
      "text/plain": [
       "<Figure size 432x288 with 1 Axes>"
      ]
     },
     "metadata": {
      "needs_background": "light"
     },
     "output_type": "display_data"
    }
   ],
   "source": [
    "plt.hist(number_words_w_stem,bins=100,range=(0,1000))\n",
    "plt.show()"
   ]
  },
  {
   "cell_type": "code",
   "execution_count": 70,
   "metadata": {},
   "outputs": [
    {
     "name": "stdout",
     "output_type": "stream",
     "text": [
      "Average number of words:\n",
      "188.33604414754575\n"
     ]
    }
   ],
   "source": [
    "print(\"Average number of words:\")\n",
    "print(mean(number_words_w_stem))"
   ]
  },
  {
   "cell_type": "code",
   "execution_count": 71,
   "metadata": {},
   "outputs": [
    {
     "name": "stdout",
     "output_type": "stream",
     "text": [
      "37279\n"
     ]
    }
   ],
   "source": [
    "# comparison vocabulary with and without stemming\n",
    "# tokenize words\n",
    "tokenizer = Tokenizer(num_words=1000)\n",
    "tokenizer.fit_on_texts(newsgroup_train.data)\n",
    "\n",
    "# get size of vocabulary \n",
    "# 1 needs to be added because of resrver 0 index\n",
    "vocab_size = len(tokenizer.word_index) + 1\n",
    "print(vocab_size)"
   ]
  },
  {
   "cell_type": "code",
   "execution_count": 72,
   "metadata": {},
   "outputs": [
    {
     "data": {
      "image/png": "[encoded data removed]",
      "text/plain": [
       "<Figure size 432x288 with 1 Axes>"
      ]
     },
     "metadata": {
      "needs_background": "light"
     },
     "output_type": "display_data"
    }
   ],
   "source": [
    "# overview\n",
    "c = Counter(newsgroup_train.target)\n",
    "number_categories = c.values()\n",
    "plt.hist(number_categories)\n",
    "plt.show()"
   ]
  }
 ],
 "metadata": {
  "kernelspec": {
   "display_name": "Python 3",
   "language": "python",
   "name": "python3"
  },
  "language_info": {
   "codemirror_mode": {
    "name": "ipython",
    "version": 3
   },
   "file_extension": ".py",
   "mimetype": "text/x-python",
   "name": "python",
   "nbconvert_exporter": "python",
   "pygments_lexer": "ipython3",
   "version": "3.7.0"
  }
 },
 "nbformat": 4,
 "nbformat_minor": 4
}
