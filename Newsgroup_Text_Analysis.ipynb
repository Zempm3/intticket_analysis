{
 "cells": [
  {
   "cell_type": "markdown",
   "metadata": {},
   "source": [
    "# Newsgroup Text Analysis\n",
    "\n",
    "This is a small exercise in text analysis using the NLTK library.\n",
    "\n",
    "Installing the NLTK corpora can be a little tricky for the uninitiated. After installing the library, you must use the downloader to download one or more text corpora. The downloader is part of the library. This utility has a GUI which tends to run fine on Windows and Linux. On Mac, it is a better bet to use the command-line version by calling download_shell(), e.g.\n",
    "\n",
    "```bash\n",
    "$ python\n",
    "Python 3.7.6 (default, Jan  8 2020, 13:42:34)\n",
    "[Clang 4.0.1 (tags/RELEASE_401/final)] :: Anaconda, Inc. on darwin\n",
    "Type \"help\", \"copyright\", \"credits\" or \"license\" for more information.\n",
    ">>> import nltk\n",
    ">>> nltk.download_shell()\n",
    "```\n",
    "\n",
    "For this exercise, it probably makes sense to download the 'popular' collection of corpora ('d popular'). At the very least, you'll need the stop words ('d stopwords'). You'll also need the [GloVe pre-trained word vectors](http://nlp.stanford.edu/data/glove.6B.zip) from Stanford (careful, it's and 822MB download!).\n",
    "\n",
    "References:\n",
    "* See [this link](https://github.com/tensorchiefs/dl_course_2018/blob/master/notebooks/13_sentiment_analysis_with_imdb_reviews_solution.ipynb) from a previous DL lecture\n",
    "* Also https://realpython.com/python-keras-text-classification/\n",
    "* ZHAW ML Lab [5_NaiveBayes_Newsgroup.py](https://moodle2.zhaw.ch/mod/folder/view.php?id=1382473)\n"
   ]
  },
  {
   "cell_type": "code",
   "execution_count": 305,
   "metadata": {},
   "outputs": [],
   "source": [
    "import numpy as np\n",
    "import matplotlib.pyplot as plt\n",
    "import pandas as pd\n",
    "from sklearn.datasets import fetch_20newsgroups\n",
    "from tensorflow.keras.preprocessing.text import Tokenizer\n",
    "from sklearn.preprocessing import LabelEncoder\n",
    "from tensorflow.keras.preprocessing.sequence import pad_sequences\n",
    "from tensorflow.keras.models import Sequential\n",
    "from tensorflow.keras import layers\n",
    "from keras.utils.np_utils import to_categorical\n",
    "from nltk.corpus import stopwords\n",
    "from nltk.tokenize import word_tokenize\n",
    "from nltk.stem import PorterStemmer\n",
    "from nltk.tokenize import RegexpTokenizer\n",
    "import nltk\n",
    "import re"
   ]
  },
  {
   "cell_type": "code",
   "execution_count": 306,
   "metadata": {},
   "outputs": [],
   "source": [
    "# Read in some data\n",
    "categories = ['soc.religion.christian', 'comp.graphics', 'sci.med', 'comp.windows.x', 'sci.space', 'alt.atheism']\n",
    "\n",
    "newsgroup_train = fetch_20newsgroups(subset='train', categories=categories, shuffle=True, remove=('headers', 'footers', 'quotes'))\n",
    "newsgroup_test = fetch_20newsgroups(subset='test', categories=categories, remove=('headers', 'footers', 'quotes'))\n"
   ]
  },
  {
   "cell_type": "code",
   "execution_count": 307,
   "metadata": {},
   "outputs": [
    {
     "name": "stdout",
     "output_type": "stream",
     "text": [
      "3443 documents\n",
      "6 categories\n",
      "\n"
     ]
    }
   ],
   "source": [
    "print(\"%d documents\" % len(newsgroup_train.filenames))\n",
    "print(\"%d categories\" % len(newsgroup_train.target_names))\n",
    "print()"
   ]
  },
  {
   "cell_type": "code",
   "execution_count": 308,
   "metadata": {},
   "outputs": [
    {
     "name": "stdout",
     "output_type": "stream",
     "text": [
      "We have recently obtained a copy of color_xterm (from export.lcs.mit.edu) after\n",
      "seeing it mentioned in a previous article. On compilation, it reports the\n",
      "following undefined symbols:\n",
      "\t_get_wmShellWidgetClass\n",
      "\t_get_applicationShellWidgetClass\n",
      "\n",
      "\tbut still runs. When sending escape sequences to set the colour,\n",
      "any colour comes out as black text on a black background. Any Ideas?\n",
      "\n",
      "Has anyone used this program in colour successfully?\n",
      "\n",
      "Can anyone point me to any other colour terminal emulators?\n",
      "\n",
      "We are running OpenWindows 3 on Sun Sparcs running SunOS 4.1.3.\n",
      "\n",
      "\t\t\t\tadvaTHANKSnce  Ben Kelley.\n"
     ]
    }
   ],
   "source": [
    "# Print an example message\n",
    "print(newsgroup_train[\"data\"][1])"
   ]
  },
  {
   "cell_type": "code",
   "execution_count": 309,
   "metadata": {},
   "outputs": [
    {
     "name": "stdout",
     "output_type": "stream",
     "text": [
      "{\"you've\", 'once', 'same', 'doesn', 'a', 'you', 'shan', \"should've\", 't', 'between', 'her', 'myself', \"needn't\", \"weren't\", 'won', 'so', 'themselves', 'does', 'them', 'such', 's', 'after', 'why', 'ourselves', 'into', 'more', 'nor', 'few', 'while', 'be', 're', 'here', 'yourself', \"didn't\", \"she's\", 'by', 'his', 'which', \"isn't\", 'll', 'herself', 'out', \"hasn't\", 'when', \"haven't\", 'hers', 'that', 'of', 'own', 'needn', 'again', 'aren', 'against', 'each', 'we', 'to', 'this', 'are', \"wasn't\", 'yourselves', 'then', \"couldn't\", 'where', 'how', \"shouldn't\", 'wouldn', 'don', 'hadn', 'most', \"mightn't\", 'o', 'been', 'not', 'm', 'below', 'couldn', 'very', 'she', \"hadn't\", 'some', \"shan't\", 'being', 'both', \"doesn't\", \"you'll\", 'our', 'ain', 'hasn', 'mightn', 'above', 'd', \"you'd\", 'haven', 'now', 'an', 'what', 'down', 'on', 'those', 'off', 'other', 'will', 'has', 'than', \"won't\", 'too', 'at', 've', 'y', \"aren't\", 'ma', 'but', 'mustn', 'wasn', 'me', \"it's\", 'have', 'for', 'any', 'is', 'was', 'they', 'during', 'he', 'in', \"that'll\", 'doing', 'if', 'do', 'can', 'only', \"you're\", \"don't\", 'all', 'whom', 'these', 'theirs', 'over', 'weren', 'him', 'my', 'itself', 'their', 'no', 'were', 'from', \"mustn't\", 'i', 'and', 'am', 'did', 'or', 'about', 'the', 'further', 'yours', 'just', 'it', 'under', 'himself', 'ours', 'isn', 'having', 'up', 'who', 'your', 'didn', 'as', 'with', 'shouldn', 'there', \"wouldn't\", 'until', 'through', 'its', 'had', 'because', 'should', 'before'}\n"
     ]
    }
   ],
   "source": [
    "# Set up standard stop words\n",
    "stop_words = set(stopwords.words('english')) \n",
    "print(stop_words)"
   ]
  },
  {
   "cell_type": "code",
   "execution_count": 310,
   "metadata": {},
   "outputs": [],
   "source": [
    "# Put some additional words in the list\n",
    "stop_words.update(['find','would','be','one','say','made','think','subject','see','fnal','articl','feel','given','led',\n",
    "                  'view','way','either','however','yet','know','get','use','therefore','even','like','could'])"
   ]
  },
  {
   "cell_type": "code",
   "execution_count": 311,
   "metadata": {},
   "outputs": [
    {
     "name": "stdout",
     "output_type": "stream",
     "text": [
      " recently obtained copy color xterm export lcs mit edu seeing mentioned previous article compilation reports following undefined symbols wmshellwidgetclass applicationshellwidgetclass still runs sending escape sequences set colour colour comes black text black background ideas anyone used program colour successfully anyone point colour terminal emulators running openwindows sun sparcs running sunos advathanksnce ben kelley\n"
     ]
    }
   ],
   "source": [
    "# Pre-processing\n",
    "\n",
    "# Get rid of stop words e.g. with nltk (and stem)\n",
    "ps = PorterStemmer()\n",
    "tokenizer = RegexpTokenizer(r'\\w+') ## Std pattern is '\\w+|\\$[\\d\\.]+|\\S+'\n",
    "\n",
    "newsgroup_trainN = []\n",
    "\n",
    "\n",
    "for message in newsgroup_train.data:\n",
    "    \n",
    "    #r'[^A-Za-z0-9#]+'\n",
    "    \n",
    "    # Sub all the special characters (except _)\n",
    "    document = re.sub(r'\\W', ' ', message)\n",
    "    document = re.sub(r'_', ' ', document)\n",
    "    # Sub all single characters\n",
    "    document = re.sub(r'\\s+[a-zA-Z]\\s+', ' ', document)\n",
    "    # Sub single characters from the start\n",
    "    document = re.sub(r'\\^[a-zA-Z]\\s+', ' ', document) \n",
    "    # Sub digits (https://stackoverflow.com/questions/39582859/python-regex-remove-numbers-and-numbers-with-punctaution?rq=1)\n",
    "    document = re.sub(r'\\b\\d+(?:\\.\\d+)?\\s+', ' ', document)\n",
    "    \n",
    "    # Substituting multiple spaces with single space\n",
    "    document = re.sub(r'\\s+', ' ', document, flags=re.I)\n",
    "    # Convert to Lowercase\n",
    "    document = document.lower()\n",
    "    document = document.strip()\n",
    "    \n",
    "    # Original code\n",
    "    text_token = tokenizer.tokenize(document)\n",
    "    messageN = ''\n",
    "    \n",
    "    for word in text_token:\n",
    "        if word not in stop_words:\n",
    "            #messageN = messageN + ' ' + ps.stem(word)\n",
    "            # w/o stemming\n",
    "            messageN = messageN + ' ' + word\n",
    "            \n",
    "    newsgroup_trainN.append(messageN)\n",
    "\n",
    "newsgroup_train.data = newsgroup_trainN\n",
    "\n",
    "# Print the same message as above, now in its processed form\n",
    "print(newsgroup_train[\"data\"][1])"
   ]
  },
  {
   "cell_type": "code",
   "execution_count": 243,
   "metadata": {},
   "outputs": [
    {
     "name": "stdout",
     "output_type": "stream",
     "text": [
      "7786\n"
     ]
    },
    {
     "data": {
      "text/plain": [
       "array(['1024x768', '10th', '17th', '18084tm', '1960s', '1993', '1b', '1d',\n",
       "       '1g', '1mb', '1st', '20th', '24bit', '24th', '24x', '2a', '2d',\n",
       "       '2mb', '2nd', '320x200x256', '386bsd', '3d', '3do', '3ds', '3e',\n",
       "       '3rd', '4368', '4mb', '4th', '5th', '640x480', '64k', '6th', '7th',\n",
       "       'abandon', 'abandoned', 'abdominal', 'abilities', 'ability',\n",
       "       'able', 'aboard', 'abort', 'abortion', 'abraham', 'absence',\n",
       "       'absent', 'absolute', 'absolutely', 'absolutes', 'absorbed',\n",
       "       'absorption', 'abstinence', 'abstract', 'abstraction', 'abstracts',\n",
       "       'absurd', 'abuse', 'ac', 'acad3', 'academic', 'academy',\n",
       "       'acceleration', 'accelerator', 'accelerators', 'accept',\n",
       "       'acceptable', 'acceptance', 'accepted', 'accepting', 'accepts',\n",
       "       'access', 'accessible', 'accident', 'accidental', 'accidently',\n",
       "       'accompanied', 'accompanying', 'accomplish', 'accomplished',\n",
       "       'accordance', 'according', 'account', 'accountable', 'accounting',\n",
       "       'accounts', 'accumulate', 'accuracy', 'accurate', 'accurately',\n",
       "       'accuse', 'accused', 'ace', 'achieve', 'achieved', 'achieving',\n",
       "       'acid', 'acidophilus', 'acids', 'acknowledge', 'acknowledged',\n",
       "       'acm', 'acquire', 'acquired', 'acronym', 'across', 'acs', 'act',\n",
       "       'acting', 'action', 'actions', 'activated', 'active', 'actively',\n",
       "       'activities', 'activity', 'acts', 'actual', 'actually',\n",
       "       'acupuncture', 'acute', 'ad', 'adam', 'adams', 'adapt',\n",
       "       'adaptation', 'adapted', 'add', 'added', 'adding', 'addition',\n",
       "       'additional', 'additionally', 'additions', 'additive', 'additives',\n",
       "       'addr', 'address', 'addressed', 'addresses', 'addressing', 'adds',\n",
       "       'adequate', 'adequately', 'adjust', 'adjustment', 'admin',\n",
       "       'administered', 'administration', 'administrative',\n",
       "       'administrator', 'admission', 'admit', 'admitted', 'admittedly',\n",
       "       'adobe', 'adopt', 'adopted', 'ads', 'adult', 'adults', 'advance',\n",
       "       'advanced', 'advancement', 'advances', 'advantage', 'advantages',\n",
       "       'adverse', 'advertising', 'advice', 'advisory', 'advocacy',\n",
       "       'advocate', 'advocated', 'aero', 'aeronautics', 'aerospace', 'af',\n",
       "       'affairs', 'affect', 'affected', 'affecting', 'affects',\n",
       "       'affiliated', 'afflicted', 'afford', 'afraid', 'africa', 'african',\n",
       "       'afterlife', 'afternoon', 'afterward', 'afterwards', 'age',\n",
       "       'agencies', 'agency', 'agenda', 'agent', 'ages', 'aggressive',\n",
       "       'aggressively'], dtype='<U14')"
      ]
     },
     "execution_count": 243,
     "metadata": {},
     "output_type": "execute_result"
    }
   ],
   "source": [
    "# OPTIONAL: Baseline vocab\n",
    "from sklearn.feature_extraction.text import CountVectorizer  \n",
    "vectorizer = CountVectorizer(min_df=5, max_df=0.7)\n",
    "X = vectorizer.fit_transform(newsgroup_train.data).toarray()\n",
    "\n",
    "print(len(vectorizer.get_feature_names())) #length of all tokens\n",
    "np.array(vectorizer.get_feature_names()[0:200]) #the first 200 tokens\n"
   ]
  },
  {
   "cell_type": "code",
   "execution_count": 244,
   "metadata": {},
   "outputs": [
    {
     "name": "stdout",
     "output_type": "stream",
     "text": [
      "alt.atheism: objective morality said well atheists islam religion atheism people god\n",
      "comp.graphics: format please looking program anyone file files image thanks graphics\n",
      "comp.windows.x: x11r5 display using application windows widget thanks motif server window\n",
      "sci.med: dsl shameful n3jxp chastity pitt geb banks gordon edu msg\n",
      "sci.space: also much lunar earth shuttle moon orbit launch nasa space\n",
      "soc.religion.christian: faith believe christ christian bible christians people church jesus god\n"
     ]
    }
   ],
   "source": [
    "# OPTIONAL: Run some metrics, determine most common words\n",
    "from sklearn.feature_extraction.text import TfidfVectorizer\n",
    "from sklearn.naive_bayes import MultinomialNB\n",
    "from sklearn import metrics\n",
    "\n",
    "# Converting text to vectors\n",
    "vectorizer2 = TfidfVectorizer()\n",
    "vectors = vectorizer2.fit_transform(newsgroup_train.data)\n",
    "vectors.shape\n",
    "\n",
    "# Filtering text for more realistic training\n",
    "vectors_test = vectorizer2.transform(newsgroup_test.data)\n",
    "clf = MultinomialNB(alpha=.01)\n",
    "clf.fit(vectors, newsgroup_train.target)\n",
    "pred = clf.predict(vectors_test)\n",
    "metrics.f1_score(newsgroup_test.target, pred, average='macro')\n",
    "\n",
    "feature_names = np.asarray(vectorizer2.get_feature_names())\n",
    "for i, category in enumerate(newsgroup_train.target_names):\n",
    "    top10 = np.argsort(clf.coef_[i])[-10:]\n",
    "    print(\"%s: %s\" % (category, \" \".join(feature_names[top10])))\n"
   ]
  },
  {
   "cell_type": "markdown",
   "metadata": {},
   "source": [
    "## Bag of Words (BOW) Approach\n"
   ]
  },
  {
   "cell_type": "code",
   "execution_count": 312,
   "metadata": {},
   "outputs": [
    {
     "name": "stdout",
     "output_type": "stream",
     "text": [
      "Found 35918 unique tokens.\n",
      "[11714, 272, 310, 1051, 161, 2834, 44, 3062, 9851, 2138]\n"
     ]
    }
   ],
   "source": [
    "# Tokenize words (tensorflow keras Tokenizer)\n",
    "tokenizer = Tokenizer()\n",
    "tokenizer.fit_on_texts(newsgroup_train.data)\n",
    "\n",
    "# Get size of vocabulary \n",
    "# 1 needs to be added because of resrver 0 index\n",
    "vocab_size = len(tokenizer.word_index) + 1\n",
    "print('Found %s unique tokens.' % vocab_size)\n",
    "\n",
    "# Transforms each text in texts to a sequence of integers\n",
    "X_train = tokenizer.texts_to_sequences(newsgroup_train.data)\n",
    "X_test = tokenizer.texts_to_sequences(newsgroup_test.data)\n",
    "print (X_train[0][:10])"
   ]
  },
  {
   "cell_type": "code",
   "execution_count": 313,
   "metadata": {},
   "outputs": [
    {
     "name": "stdout",
     "output_type": "stream",
     "text": [
      "2000\n"
     ]
    }
   ],
   "source": [
    "# Padding\n",
    "#maxlen = max([len(i) for i in X_train])\n",
    "maxlen = 2000\n",
    "print(maxlen)"
   ]
  },
  {
   "cell_type": "code",
   "execution_count": 314,
   "metadata": {},
   "outputs": [
    {
     "name": "stdout",
     "output_type": "stream",
     "text": [
      "(3443, 2000)\n",
      "[  291    51    44  3724   372    46   146  1712 11722   811   202    80\n",
      "  1227  5819     1   204 14406  3181   381   340  6327  7657   196  1293\n",
      "   217    44    29 11723  6936    38  3182   604  2140   244  2392   745\n",
      "   138   228   444  1408   444  5443 14407  8606   440  2140  1408   444\n",
      "   348  1036]\n"
     ]
    }
   ],
   "source": [
    "X_train = pad_sequences(X_train, padding='post', maxlen=maxlen)\n",
    "X_test = pad_sequences(X_test, padding='post', maxlen=maxlen)\n",
    "\n",
    "print (X_train.shape)\n",
    "print (X_train[0][200:250])"
   ]
  },
  {
   "cell_type": "code",
   "execution_count": 315,
   "metadata": {},
   "outputs": [
    {
     "name": "stdout",
     "output_type": "stream",
     "text": [
      "Shape of data tensor: (3443, 2000)\n",
      "Shape of label tensor: (3443, 6)\n"
     ]
    }
   ],
   "source": [
    "labels = to_categorical(np.array(newsgroup_train.target))\n",
    "\n",
    "print('Shape of data tensor:', X_train.shape)\n",
    "print('Shape of label tensor:', labels.shape)"
   ]
  },
  {
   "cell_type": "code",
   "execution_count": 284,
   "metadata": {},
   "outputs": [
    {
     "name": "stdout",
     "output_type": "stream",
     "text": [
      "Model: \"sequential_28\"\n",
      "_________________________________________________________________\n",
      "Layer (type)                 Output Shape              Param #   \n",
      "=================================================================\n",
      "embedding_28 (Embedding)     (None, 1000, 50)          1795900   \n",
      "_________________________________________________________________\n",
      "flatten_12 (Flatten)         (None, 50000)             0         \n",
      "_________________________________________________________________\n",
      "dense_49 (Dense)             (None, 10)                500010    \n",
      "_________________________________________________________________\n",
      "dense_50 (Dense)             (None, 6)                 66        \n",
      "=================================================================\n",
      "Total params: 2,295,976\n",
      "Trainable params: 2,295,976\n",
      "Non-trainable params: 0\n",
      "_________________________________________________________________\n"
     ]
    }
   ],
   "source": [
    "model = Sequential()\n",
    "\n",
    "embedding_dim = 50\n",
    "\n",
    "# Feature extraction\n",
    "model.add(layers.Embedding(input_dim=vocab_size, \n",
    "                           output_dim=embedding_dim, \n",
    "                           input_length=maxlen))\n",
    "model.add(layers.Flatten())\n",
    "\n",
    "# Classification\n",
    "model.add(layers.Dense(10, activation='relu'))\n",
    "model.add(layers.Dense(6, activation='softmax'))\n",
    "\n",
    "model.compile(optimizer='adam',\n",
    "              loss='sparse_categorical_crossentropy',\n",
    "              metrics=['accuracy'])\n",
    "model.summary()"
   ]
  },
  {
   "cell_type": "code",
   "execution_count": 267,
   "metadata": {},
   "outputs": [
    {
     "name": "stdout",
     "output_type": "stream",
     "text": [
      "Train on 3443 samples, validate on 2291 samples\n",
      "Epoch 1/10\n",
      "3443/3443 [==============================] - 16s 5ms/sample - loss: 1.8333 - accuracy: 0.1673 - val_loss: 1.7901 - val_accuracy: 0.1737\n",
      "Epoch 2/10\n",
      "3443/3443 [==============================] - 16s 5ms/sample - loss: 1.7896 - accuracy: 0.1647 - val_loss: 1.7895 - val_accuracy: 0.1737\n",
      "Epoch 3/10\n",
      "3443/3443 [==============================] - 16s 5ms/sample - loss: 1.7891 - accuracy: 0.1690 - val_loss: 1.7891 - val_accuracy: 0.1737\n",
      "Epoch 4/10\n",
      "3443/3443 [==============================] - 16s 5ms/sample - loss: 1.7889 - accuracy: 0.1690 - val_loss: 1.7890 - val_accuracy: 0.1737\n",
      "Epoch 5/10\n",
      "3443/3443 [==============================] - 16s 5ms/sample - loss: 1.7888 - accuracy: 0.1589 - val_loss: 1.7890 - val_accuracy: 0.1737\n",
      "Epoch 6/10\n",
      "3443/3443 [==============================] - 16s 5ms/sample - loss: 1.7887 - accuracy: 0.1743 - val_loss: 1.7889 - val_accuracy: 0.1737\n",
      "Epoch 7/10\n",
      "3443/3443 [==============================] - 16s 5ms/sample - loss: 1.7887 - accuracy: 0.1687 - val_loss: 1.7889 - val_accuracy: 0.1737\n",
      "Epoch 8/10\n",
      "3443/3443 [==============================] - 16s 5ms/sample - loss: 1.7887 - accuracy: 0.1653 - val_loss: 1.7889 - val_accuracy: 0.1737\n",
      "Epoch 9/10\n",
      "3443/3443 [==============================] - 16s 5ms/sample - loss: 1.7887 - accuracy: 0.1679 - val_loss: 1.7889 - val_accuracy: 0.1737\n",
      "Epoch 10/10\n",
      "3443/3443 [==============================] - 16s 5ms/sample - loss: 1.7888 - accuracy: 0.1647 - val_loss: 1.7889 - val_accuracy: 0.1737\n",
      "Training Accuracy: 0.1743\n",
      "Testing Accuracy:  0.1737\n"
     ]
    }
   ],
   "source": [
    "history = model.fit(X_train, newsgroup_train.target,\n",
    "                    epochs=10,\n",
    "                    verbose=True,\n",
    "                    validation_data=(X_test, newsgroup_test.target),\n",
    "                    batch_size=10)\n",
    "loss, accuracy = model.evaluate(X_train, newsgroup_train.target, verbose=False)\n",
    "print(\"Training Accuracy: {:.4f}\".format(accuracy))\n",
    "loss, accuracy = model.evaluate(X_test, newsgroup_test.target, verbose=False)\n",
    "print(\"Testing Accuracy:  {:.4f}\".format(accuracy))"
   ]
  },
  {
   "cell_type": "code",
   "execution_count": 268,
   "metadata": {},
   "outputs": [
    {
     "data": {
      "image/png": "[encoded data removed]",
      "text/plain": [
       "<Figure size 432x288 with 1 Axes>"
      ]
     },
     "metadata": {
      "needs_background": "light"
     },
     "output_type": "display_data"
    },
    {
     "data": {
      "image/png": "[encoded data removed]",
      "text/plain": [
       "<Figure size 432x288 with 1 Axes>"
      ]
     },
     "metadata": {
      "needs_background": "light"
     },
     "output_type": "display_data"
    }
   ],
   "source": [
    "# Plot training & validation accuracy values\n",
    "plt.plot(history.history['accuracy'])\n",
    "plt.plot(history.history['val_accuracy'])\n",
    "plt.title('Model accuracy')\n",
    "plt.ylabel('Accuracy')\n",
    "plt.xlabel('Epoch')\n",
    "plt.legend(['Train', 'Test'], loc='upper left')\n",
    "plt.show()\n",
    "\n",
    "# Plot training & validation loss values\n",
    "plt.plot(history.history['loss'])\n",
    "plt.plot(history.history['val_loss'])\n",
    "plt.title('Model loss')\n",
    "plt.ylabel('Loss')\n",
    "plt.xlabel('Epoch')\n",
    "plt.legend(['Train', 'Test'], loc='upper left')\n",
    "plt.show()"
   ]
  },
  {
   "cell_type": "markdown",
   "metadata": {},
   "source": [
    "## Word Embedding w/ pre-computed embedding space (GloVe)\n",
    "\n",
    "Now, we use Stanford's precomputed embedding space for our model.\n"
   ]
  },
  {
   "cell_type": "code",
   "execution_count": 316,
   "metadata": {},
   "outputs": [],
   "source": [
    "# We don't need the full GloVe vocabulary, only the words we really need\n",
    "# Helper function\n",
    "def create_embedding_matrix(filepath, word_index, embedding_dim):\n",
    "    vocab_size = len(word_index) + 1  # Adding again 1 because of reserved 0 index\n",
    "    embedding_matrix = np.zeros((vocab_size, embedding_dim))\n",
    "\n",
    "    with open(filepath) as f:\n",
    "        for line in f:\n",
    "            word, *vector = line.split()\n",
    "            if word in word_index:\n",
    "                idx = word_index[word] \n",
    "                embedding_matrix[idx] = np.array(\n",
    "                    vector, dtype=np.float32)[:embedding_dim]\n",
    "\n",
    "    return embedding_matrix"
   ]
  },
  {
   "cell_type": "code",
   "execution_count": 317,
   "metadata": {},
   "outputs": [],
   "source": [
    "# Create the embedding matrix for our vocab\n",
    "embedding_dim = 50\n",
    "embedding_matrix = create_embedding_matrix('glove.6B.50d.txt', tokenizer.word_index, embedding_dim)"
   ]
  },
  {
   "cell_type": "code",
   "execution_count": 318,
   "metadata": {},
   "outputs": [
    {
     "data": {
      "text/plain": [
       "0.7690294559830726"
      ]
     },
     "execution_count": 318,
     "metadata": {},
     "output_type": "execute_result"
    }
   ],
   "source": [
    "# Check how many of our words are covered by the GloVe vocab\n",
    "nonzero_elements = np.count_nonzero(np.count_nonzero(embedding_matrix, axis=1))\n",
    "nonzero_elements / vocab_size"
   ]
  },
  {
   "cell_type": "code",
   "execution_count": 272,
   "metadata": {},
   "outputs": [
    {
     "name": "stdout",
     "output_type": "stream",
     "text": [
      "Model: \"sequential_26\"\n",
      "_________________________________________________________________\n",
      "Layer (type)                 Output Shape              Param #   \n",
      "=================================================================\n",
      "embedding_26 (Embedding)     (None, 6215, 50)          1795900   \n",
      "_________________________________________________________________\n",
      "global_max_pooling1d_12 (Glo (None, 50)                0         \n",
      "_________________________________________________________________\n",
      "dense_45 (Dense)             (None, 10)                510       \n",
      "_________________________________________________________________\n",
      "dense_46 (Dense)             (None, 6)                 66        \n",
      "=================================================================\n",
      "Total params: 1,796,476\n",
      "Trainable params: 576\n",
      "Non-trainable params: 1,795,900\n",
      "_________________________________________________________________\n"
     ]
    }
   ],
   "source": [
    "model = Sequential()\n",
    "model.add(layers.Embedding(input_dim=vocab_size, output_dim=embedding_dim, \n",
    "                           weights=[embedding_matrix], \n",
    "                           input_length=maxlen, \n",
    "                           trainable=False))\n",
    "model.add(layers.GlobalMaxPool1D())\n",
    "model.add(layers.Dense(10, activation='relu'))\n",
    "model.add(layers.Dense(6, activation='sigmoid'))\n",
    "model.compile(optimizer='adam',\n",
    "              loss='sparse_categorical_crossentropy',\n",
    "              metrics=['accuracy'])\n",
    "model.summary()\n"
   ]
  },
  {
   "cell_type": "code",
   "execution_count": 273,
   "metadata": {},
   "outputs": [
    {
     "name": "stdout",
     "output_type": "stream",
     "text": [
      "Train on 3443 samples, validate on 2291 samples\n",
      "Epoch 1/50\n",
      "3443/3443 [==============================] - 4s 1ms/sample - loss: 1.7437 - accuracy: 0.2265 - val_loss: 1.7893 - val_accuracy: 0.1763\n",
      "Epoch 2/50\n",
      "3443/3443 [==============================] - 4s 1ms/sample - loss: 1.5899 - accuracy: 0.3787 - val_loss: 1.7755 - val_accuracy: 0.1855\n",
      "Epoch 3/50\n",
      "3443/3443 [==============================] - 4s 1ms/sample - loss: 1.2291 - accuracy: 0.5132 - val_loss: 1.7600 - val_accuracy: 0.1969\n",
      "Epoch 4/50\n",
      "3443/3443 [==============================] - 4s 1ms/sample - loss: 1.1097 - accuracy: 0.5504 - val_loss: 1.7548 - val_accuracy: 0.1990\n",
      "Epoch 5/50\n",
      "3443/3443 [==============================] - 4s 1ms/sample - loss: 1.0477 - accuracy: 0.5655 - val_loss: 1.7553 - val_accuracy: 0.1960\n",
      "Epoch 6/50\n",
      "3443/3443 [==============================] - 4s 1ms/sample - loss: 1.0114 - accuracy: 0.5858 - val_loss: 1.7479 - val_accuracy: 0.2008\n",
      "Epoch 7/50\n",
      "3443/3443 [==============================] - 4s 1ms/sample - loss: 0.9866 - accuracy: 0.5919 - val_loss: 1.7484 - val_accuracy: 0.2017\n",
      "Epoch 8/50\n",
      "3443/3443 [==============================] - 4s 1ms/sample - loss: 0.9666 - accuracy: 0.5966 - val_loss: 1.7468 - val_accuracy: 0.2030\n",
      "Epoch 9/50\n",
      "3443/3443 [==============================] - 4s 1ms/sample - loss: 0.9537 - accuracy: 0.5960 - val_loss: 1.7462 - val_accuracy: 0.2017\n",
      "Epoch 10/50\n",
      "3443/3443 [==============================] - 4s 1ms/sample - loss: 0.9433 - accuracy: 0.6047 - val_loss: 1.7484 - val_accuracy: 0.1977\n",
      "Epoch 11/50\n",
      "3443/3443 [==============================] - 4s 1ms/sample - loss: 0.9324 - accuracy: 0.6114 - val_loss: 1.7510 - val_accuracy: 0.1899\n",
      "Epoch 12/50\n",
      "3443/3443 [==============================] - 4s 1ms/sample - loss: 0.9272 - accuracy: 0.6056 - val_loss: 1.7479 - val_accuracy: 0.2012\n",
      "Epoch 13/50\n",
      "3443/3443 [==============================] - 4s 1ms/sample - loss: 0.9199 - accuracy: 0.6134 - val_loss: 1.7462 - val_accuracy: 0.2012\n",
      "Epoch 14/50\n",
      "3443/3443 [==============================] - 4s 1ms/sample - loss: 0.9096 - accuracy: 0.6166 - val_loss: 1.7455 - val_accuracy: 0.2025\n",
      "Epoch 15/50\n",
      "3443/3443 [==============================] - 4s 1ms/sample - loss: 0.9062 - accuracy: 0.6230 - val_loss: 1.7471 - val_accuracy: 0.1995\n",
      "Epoch 16/50\n",
      "3443/3443 [==============================] - 4s 1ms/sample - loss: 0.9024 - accuracy: 0.6169 - val_loss: 1.7523 - val_accuracy: 0.1977\n",
      "Epoch 17/50\n",
      "3443/3443 [==============================] - 4s 1ms/sample - loss: 0.8967 - accuracy: 0.6271 - val_loss: 1.7520 - val_accuracy: 0.2008\n",
      "Epoch 18/50\n",
      "3443/3443 [==============================] - 4s 1ms/sample - loss: 0.8938 - accuracy: 0.6230 - val_loss: 1.7569 - val_accuracy: 0.1990\n",
      "Epoch 19/50\n",
      "3443/3443 [==============================] - 4s 1ms/sample - loss: 0.8911 - accuracy: 0.6218 - val_loss: 1.7609 - val_accuracy: 0.2025\n",
      "Epoch 20/50\n",
      "3443/3443 [==============================] - 4s 1ms/sample - loss: 0.8893 - accuracy: 0.6265 - val_loss: 1.7637 - val_accuracy: 0.2021\n",
      "Epoch 21/50\n",
      "3443/3443 [==============================] - 4s 1ms/sample - loss: 0.8837 - accuracy: 0.6320 - val_loss: 1.7711 - val_accuracy: 0.2003\n",
      "Epoch 22/50\n",
      "3443/3443 [==============================] - 4s 1ms/sample - loss: 0.8823 - accuracy: 0.6320 - val_loss: 1.7755 - val_accuracy: 0.2038\n",
      "Epoch 23/50\n",
      "3443/3443 [==============================] - 4s 1ms/sample - loss: 0.8800 - accuracy: 0.6306 - val_loss: 1.7836 - val_accuracy: 0.1990\n",
      "Epoch 24/50\n",
      "3443/3443 [==============================] - 4s 1ms/sample - loss: 0.8742 - accuracy: 0.6346 - val_loss: 1.7910 - val_accuracy: 0.2008\n",
      "Epoch 25/50\n",
      "3443/3443 [==============================] - 4s 1ms/sample - loss: 0.8784 - accuracy: 0.6320 - val_loss: 1.7942 - val_accuracy: 0.2008\n",
      "Epoch 26/50\n",
      "3443/3443 [==============================] - 4s 1ms/sample - loss: 0.8701 - accuracy: 0.6367 - val_loss: 1.8046 - val_accuracy: 0.1995\n",
      "Epoch 27/50\n",
      "3443/3443 [==============================] - 4s 1ms/sample - loss: 0.8693 - accuracy: 0.6367 - val_loss: 1.8067 - val_accuracy: 0.1999\n",
      "Epoch 28/50\n",
      "3443/3443 [==============================] - 4s 1ms/sample - loss: 0.8673 - accuracy: 0.6451 - val_loss: 1.8100 - val_accuracy: 0.2017\n",
      "Epoch 29/50\n",
      "3443/3443 [==============================] - 4s 1ms/sample - loss: 0.8633 - accuracy: 0.6439 - val_loss: 1.8142 - val_accuracy: 0.1995\n",
      "Epoch 30/50\n",
      "3443/3443 [==============================] - 4s 1ms/sample - loss: 0.8646 - accuracy: 0.6462 - val_loss: 1.8189 - val_accuracy: 0.1995\n",
      "Epoch 31/50\n",
      "3443/3443 [==============================] - 4s 1ms/sample - loss: 0.8661 - accuracy: 0.6442 - val_loss: 1.8229 - val_accuracy: 0.1982\n",
      "Epoch 32/50\n",
      "3443/3443 [==============================] - 4s 1ms/sample - loss: 0.8646 - accuracy: 0.6448 - val_loss: 1.8336 - val_accuracy: 0.1982\n",
      "Epoch 33/50\n",
      "3443/3443 [==============================] - 4s 1ms/sample - loss: 0.8618 - accuracy: 0.6457 - val_loss: 1.8255 - val_accuracy: 0.1986\n",
      "Epoch 34/50\n",
      "3443/3443 [==============================] - 4s 1ms/sample - loss: 0.8548 - accuracy: 0.6486 - val_loss: 1.8297 - val_accuracy: 0.2017\n",
      "Epoch 35/50\n",
      "3443/3443 [==============================] - 4s 1ms/sample - loss: 0.8568 - accuracy: 0.6500 - val_loss: 1.8359 - val_accuracy: 0.1986\n",
      "Epoch 36/50\n",
      "3443/3443 [==============================] - 4s 1ms/sample - loss: 0.8543 - accuracy: 0.6494 - val_loss: 1.8376 - val_accuracy: 0.1995\n",
      "Epoch 37/50\n",
      "3443/3443 [==============================] - 4s 1ms/sample - loss: 0.8537 - accuracy: 0.6526 - val_loss: 1.8423 - val_accuracy: 0.1999\n",
      "Epoch 38/50\n",
      "3443/3443 [==============================] - 4s 1ms/sample - loss: 0.8532 - accuracy: 0.6579 - val_loss: 1.8454 - val_accuracy: 0.2003\n",
      "Epoch 39/50\n",
      "3443/3443 [==============================] - 4s 1ms/sample - loss: 0.8524 - accuracy: 0.6579 - val_loss: 1.8494 - val_accuracy: 0.2012\n",
      "Epoch 40/50\n",
      "3443/3443 [==============================] - 4s 1ms/sample - loss: 0.8490 - accuracy: 0.6567 - val_loss: 1.8522 - val_accuracy: 0.1990\n",
      "Epoch 41/50\n",
      "3443/3443 [==============================] - 4s 1ms/sample - loss: 0.8481 - accuracy: 0.6613 - val_loss: 1.8556 - val_accuracy: 0.1995\n",
      "Epoch 42/50\n",
      "3443/3443 [==============================] - 4s 1ms/sample - loss: 0.8492 - accuracy: 0.6579 - val_loss: 1.8549 - val_accuracy: 0.1995\n",
      "Epoch 43/50\n",
      "3443/3443 [==============================] - 4s 1ms/sample - loss: 0.8458 - accuracy: 0.6587 - val_loss: 1.8608 - val_accuracy: 0.2012\n",
      "Epoch 44/50\n",
      "3443/3443 [==============================] - 4s 1ms/sample - loss: 0.8437 - accuracy: 0.6645 - val_loss: 1.8594 - val_accuracy: 0.2021\n",
      "Epoch 45/50\n",
      "3443/3443 [==============================] - 4s 1ms/sample - loss: 0.8420 - accuracy: 0.6666 - val_loss: 1.8602 - val_accuracy: 0.2021\n",
      "Epoch 46/50\n",
      "3443/3443 [==============================] - 4s 1ms/sample - loss: 0.8451 - accuracy: 0.6669 - val_loss: 1.8654 - val_accuracy: 0.2003\n",
      "Epoch 47/50\n",
      "3443/3443 [==============================] - 4s 1ms/sample - loss: 0.8379 - accuracy: 0.6689 - val_loss: 1.8708 - val_accuracy: 0.1999\n",
      "Epoch 48/50\n",
      "3443/3443 [==============================] - 4s 1ms/sample - loss: 0.8416 - accuracy: 0.6709 - val_loss: 1.8653 - val_accuracy: 0.2021\n",
      "Epoch 49/50\n",
      "3443/3443 [==============================] - 4s 1ms/sample - loss: 0.8384 - accuracy: 0.6762 - val_loss: 1.8717 - val_accuracy: 0.1990\n",
      "Epoch 50/50\n",
      "3443/3443 [==============================] - 4s 1ms/sample - loss: 0.8388 - accuracy: 0.6706 - val_loss: 1.8704 - val_accuracy: 0.1995\n",
      "Training Accuracy: 0.6733\n",
      "Testing Accuracy:  0.1995\n"
     ]
    }
   ],
   "source": [
    "history = model.fit(X_train, newsgroup_train.target,\n",
    "                    epochs=50,\n",
    "                    verbose=True,\n",
    "                    validation_data=(X_test, newsgroup_test.target),\n",
    "                    batch_size=10)\n",
    "loss, accuracy = model.evaluate(X_train, newsgroup_train.target, verbose=False)\n",
    "print(\"Training Accuracy: {:.4f}\".format(accuracy))\n",
    "loss, accuracy = model.evaluate(X_test, newsgroup_test.target, verbose=False)\n",
    "print(\"Testing Accuracy:  {:.4f}\".format(accuracy))"
   ]
  },
  {
   "cell_type": "markdown",
   "metadata": {},
   "source": [
    "### With training the word embeddings..."
   ]
  },
  {
   "cell_type": "code",
   "execution_count": 319,
   "metadata": {},
   "outputs": [
    {
     "name": "stdout",
     "output_type": "stream",
     "text": [
      "Model: \"sequential_42\"\n",
      "_________________________________________________________________\n",
      "Layer (type)                 Output Shape              Param #   \n",
      "=================================================================\n",
      "embedding_41 (Embedding)     (None, 2000, 50)          1795900   \n",
      "_________________________________________________________________\n",
      "global_max_pooling1d_14 (Glo (None, 50)                0         \n",
      "_________________________________________________________________\n",
      "dense_71 (Dense)             (None, 10)                510       \n",
      "_________________________________________________________________\n",
      "dense_72 (Dense)             (None, 6)                 66        \n",
      "=================================================================\n",
      "Total params: 1,796,476\n",
      "Trainable params: 1,796,476\n",
      "Non-trainable params: 0\n",
      "_________________________________________________________________\n"
     ]
    }
   ],
   "source": [
    "model = Sequential()\n",
    "model.add(layers.Embedding(input_dim=vocab_size, output_dim=embedding_dim, \n",
    "                           weights=[embedding_matrix], \n",
    "                           input_length=maxlen, \n",
    "                           trainable=True))\n",
    "model.add(layers.GlobalMaxPool1D())\n",
    "model.add(layers.Dense(10, activation='relu'))\n",
    "model.add(layers.Dense(6, activation='sigmoid'))\n",
    "model.compile(optimizer='adam',\n",
    "              loss='sparse_categorical_crossentropy',\n",
    "              metrics=['accuracy'])\n",
    "model.summary()"
   ]
  },
  {
   "cell_type": "code",
   "execution_count": 320,
   "metadata": {},
   "outputs": [
    {
     "name": "stdout",
     "output_type": "stream",
     "text": [
      "Train on 3443 samples, validate on 2291 samples\n",
      "Epoch 1/50\n",
      "3443/3443 [==============================] - 9s 3ms/sample - loss: 1.7767 - accuracy: 0.2213 - val_loss: 1.7493 - val_accuracy: 0.2182\n",
      "Epoch 2/50\n",
      "3443/3443 [==============================] - 8s 2ms/sample - loss: 1.6826 - accuracy: 0.3140 - val_loss: 1.6362 - val_accuracy: 0.3191\n",
      "Epoch 3/50\n",
      "3443/3443 [==============================] - 8s 2ms/sample - loss: 1.3441 - accuracy: 0.4882 - val_loss: 1.2290 - val_accuracy: 0.5325\n",
      "Epoch 4/50\n",
      "3443/3443 [==============================] - 8s 2ms/sample - loss: 0.9647 - accuracy: 0.6654 - val_loss: 1.0420 - val_accuracy: 0.6150\n",
      "Epoch 5/50\n",
      "3443/3443 [==============================] - 8s 2ms/sample - loss: 0.7406 - accuracy: 0.7671 - val_loss: 0.9441 - val_accuracy: 0.6565\n",
      "Epoch 6/50\n",
      "3443/3443 [==============================] - 8s 2ms/sample - loss: 0.5919 - accuracy: 0.8211 - val_loss: 0.8825 - val_accuracy: 0.6670\n",
      "Epoch 7/50\n",
      "3443/3443 [==============================] - 8s 2ms/sample - loss: 0.4762 - accuracy: 0.8644 - val_loss: 0.8392 - val_accuracy: 0.6931\n",
      "Epoch 8/50\n",
      "3443/3443 [==============================] - 8s 2ms/sample - loss: 0.3863 - accuracy: 0.8943 - val_loss: 0.8259 - val_accuracy: 0.6979\n",
      "Epoch 9/50\n",
      "3443/3443 [==============================] - 8s 2ms/sample - loss: 0.3137 - accuracy: 0.9134 - val_loss: 0.8090 - val_accuracy: 0.7023\n",
      "Epoch 10/50\n",
      "3443/3443 [==============================] - 8s 2ms/sample - loss: 0.2574 - accuracy: 0.9300 - val_loss: 0.8129 - val_accuracy: 0.7010\n",
      "Epoch 11/50\n",
      "3443/3443 [==============================] - 8s 2ms/sample - loss: 0.2088 - accuracy: 0.9480 - val_loss: 0.8172 - val_accuracy: 0.7097\n",
      "Epoch 12/50\n",
      "3443/3443 [==============================] - 8s 2ms/sample - loss: 0.1714 - accuracy: 0.9553 - val_loss: 0.8384 - val_accuracy: 0.7080\n",
      "Epoch 13/50\n",
      "3443/3443 [==============================] - 8s 2ms/sample - loss: 0.1411 - accuracy: 0.9654 - val_loss: 0.8242 - val_accuracy: 0.7137\n",
      "Epoch 14/50\n",
      "3443/3443 [==============================] - 8s 2ms/sample - loss: 0.1182 - accuracy: 0.9707 - val_loss: 0.8485 - val_accuracy: 0.7141\n",
      "Epoch 15/50\n",
      "3443/3443 [==============================] - 8s 2ms/sample - loss: 0.0981 - accuracy: 0.9768 - val_loss: 0.8661 - val_accuracy: 0.7110\n",
      "Epoch 16/50\n",
      "3443/3443 [==============================] - 8s 2ms/sample - loss: 0.0843 - accuracy: 0.9797 - val_loss: 0.8894 - val_accuracy: 0.7084\n",
      "Epoch 17/50\n",
      "3443/3443 [==============================] - 8s 2ms/sample - loss: 0.0731 - accuracy: 0.9823 - val_loss: 0.8855 - val_accuracy: 0.7154\n",
      "Epoch 18/50\n",
      "3443/3443 [==============================] - 8s 2ms/sample - loss: 0.0644 - accuracy: 0.9826 - val_loss: 0.8988 - val_accuracy: 0.7141\n",
      "Epoch 19/50\n",
      "3443/3443 [==============================] - 8s 2ms/sample - loss: 0.0578 - accuracy: 0.9832 - val_loss: 0.9169 - val_accuracy: 0.7172\n",
      "Epoch 20/50\n",
      "3443/3443 [==============================] - 8s 2ms/sample - loss: 0.0531 - accuracy: 0.9834 - val_loss: 0.9366 - val_accuracy: 0.7154\n",
      "Epoch 21/50\n",
      "3443/3443 [==============================] - 8s 2ms/sample - loss: 0.0494 - accuracy: 0.9834 - val_loss: 0.9485 - val_accuracy: 0.7163\n",
      "Epoch 22/50\n",
      "3443/3443 [==============================] - 8s 2ms/sample - loss: 0.0467 - accuracy: 0.9837 - val_loss: 0.9675 - val_accuracy: 0.7189\n",
      "Epoch 23/50\n",
      "3443/3443 [==============================] - 8s 2ms/sample - loss: 0.0445 - accuracy: 0.9837 - val_loss: 0.9780 - val_accuracy: 0.7193\n",
      "Epoch 24/50\n",
      "3443/3443 [==============================] - 8s 2ms/sample - loss: 0.0429 - accuracy: 0.9837 - val_loss: 0.9893 - val_accuracy: 0.7206\n",
      "Epoch 25/50\n",
      "3443/3443 [==============================] - 8s 2ms/sample - loss: 0.0416 - accuracy: 0.9834 - val_loss: 1.0028 - val_accuracy: 0.7180\n",
      "Epoch 26/50\n",
      "3443/3443 [==============================] - 8s 2ms/sample - loss: 0.0409 - accuracy: 0.9834 - val_loss: 1.0237 - val_accuracy: 0.7206\n",
      "Epoch 27/50\n",
      "3443/3443 [==============================] - 8s 2ms/sample - loss: 0.0396 - accuracy: 0.9834 - val_loss: 1.0414 - val_accuracy: 0.7228\n",
      "Epoch 28/50\n",
      "3443/3443 [==============================] - 8s 2ms/sample - loss: 0.0390 - accuracy: 0.9832 - val_loss: 1.0539 - val_accuracy: 0.7180\n",
      "Epoch 29/50\n",
      "3443/3443 [==============================] - 8s 2ms/sample - loss: 0.0384 - accuracy: 0.9834 - val_loss: 1.0691 - val_accuracy: 0.7180\n",
      "Epoch 30/50\n",
      "3443/3443 [==============================] - 8s 2ms/sample - loss: 0.0380 - accuracy: 0.9837 - val_loss: 1.0865 - val_accuracy: 0.7233\n",
      "Epoch 31/50\n",
      "3443/3443 [==============================] - 8s 2ms/sample - loss: 0.0377 - accuracy: 0.9832 - val_loss: 1.0961 - val_accuracy: 0.7202\n",
      "Epoch 32/50\n",
      "3443/3443 [==============================] - 8s 2ms/sample - loss: 0.0373 - accuracy: 0.9837 - val_loss: 1.1125 - val_accuracy: 0.7228\n",
      "Epoch 33/50\n",
      "3443/3443 [==============================] - 8s 2ms/sample - loss: 0.0373 - accuracy: 0.9834 - val_loss: 1.1219 - val_accuracy: 0.7211\n",
      "Epoch 34/50\n",
      "3443/3443 [==============================] - 8s 2ms/sample - loss: 0.0369 - accuracy: 0.9837 - val_loss: 1.1358 - val_accuracy: 0.7193\n",
      "Epoch 35/50\n",
      "3443/3443 [==============================] - 8s 2ms/sample - loss: 0.0368 - accuracy: 0.9834 - val_loss: 1.1461 - val_accuracy: 0.7259\n",
      "Epoch 36/50\n",
      "3443/3443 [==============================] - 8s 2ms/sample - loss: 0.0367 - accuracy: 0.9834 - val_loss: 1.1617 - val_accuracy: 0.7228\n",
      "Epoch 37/50\n",
      "3443/3443 [==============================] - 8s 2ms/sample - loss: 0.0365 - accuracy: 0.9832 - val_loss: 1.1733 - val_accuracy: 0.7215\n",
      "Epoch 38/50\n",
      "3443/3443 [==============================] - 8s 2ms/sample - loss: 0.0364 - accuracy: 0.9837 - val_loss: 1.1848 - val_accuracy: 0.7220\n",
      "Epoch 39/50\n",
      "3443/3443 [==============================] - 8s 2ms/sample - loss: 0.0364 - accuracy: 0.9826 - val_loss: 1.2005 - val_accuracy: 0.7237\n",
      "Epoch 40/50\n",
      "3443/3443 [==============================] - 8s 2ms/sample - loss: 0.0363 - accuracy: 0.9823 - val_loss: 1.2081 - val_accuracy: 0.7246\n",
      "Epoch 41/50\n",
      "3443/3443 [==============================] - 8s 2ms/sample - loss: 0.0363 - accuracy: 0.9832 - val_loss: 1.2145 - val_accuracy: 0.7198\n",
      "Epoch 42/50\n",
      "3443/3443 [==============================] - 8s 2ms/sample - loss: 0.0362 - accuracy: 0.9820 - val_loss: 1.2404 - val_accuracy: 0.7250\n",
      "Epoch 43/50\n",
      "3443/3443 [==============================] - 8s 2ms/sample - loss: 0.0362 - accuracy: 0.9829 - val_loss: 1.2335 - val_accuracy: 0.7233\n",
      "Epoch 44/50\n",
      "3443/3443 [==============================] - 8s 2ms/sample - loss: 0.0365 - accuracy: 0.9837 - val_loss: 1.2466 - val_accuracy: 0.7198\n",
      "Epoch 45/50\n",
      "3443/3443 [==============================] - 8s 2ms/sample - loss: 0.0360 - accuracy: 0.9832 - val_loss: 1.2554 - val_accuracy: 0.7233\n",
      "Epoch 46/50\n",
      "3443/3443 [==============================] - 8s 2ms/sample - loss: 0.0363 - accuracy: 0.9829 - val_loss: 1.2722 - val_accuracy: 0.7233\n",
      "Epoch 47/50\n",
      "3443/3443 [==============================] - 8s 2ms/sample - loss: 0.0359 - accuracy: 0.9834 - val_loss: 1.2718 - val_accuracy: 0.7250\n",
      "Epoch 48/50\n",
      "3443/3443 [==============================] - 8s 2ms/sample - loss: 0.0359 - accuracy: 0.9834 - val_loss: 1.2810 - val_accuracy: 0.7246\n",
      "Epoch 49/50\n",
      "3443/3443 [==============================] - 8s 2ms/sample - loss: 0.0361 - accuracy: 0.9834 - val_loss: 1.2900 - val_accuracy: 0.7246\n",
      "Epoch 50/50\n",
      "3443/3443 [==============================] - 8s 2ms/sample - loss: 0.0359 - accuracy: 0.9834 - val_loss: 1.3079 - val_accuracy: 0.7263\n",
      "Training Accuracy: 0.9837\n",
      "Testing Accuracy:  0.7263\n"
     ]
    }
   ],
   "source": [
    "history = model.fit(X_train, newsgroup_train.target,\n",
    "                    epochs=50,\n",
    "                    verbose=True,\n",
    "                    validation_data=(X_test, newsgroup_test.target),\n",
    "                    batch_size=10)\n",
    "loss, accuracy = model.evaluate(X_train, newsgroup_train.target, verbose=False)\n",
    "print(\"Training Accuracy: {:.4f}\".format(accuracy))\n",
    "loss, accuracy = model.evaluate(X_test, newsgroup_test.target, verbose=False)\n",
    "print(\"Testing Accuracy:  {:.4f}\".format(accuracy))"
   ]
  },
  {
   "cell_type": "code",
   "execution_count": 229,
   "metadata": {},
   "outputs": [
    {
     "data": {
      "image/png": "[encoded data removed]",
      "text/plain": [
       "<Figure size 432x288 with 1 Axes>"
      ]
     },
     "metadata": {
      "needs_background": "light"
     },
     "output_type": "display_data"
    },
    {
     "data": {
      "image/png": "[encoded data removed]",
      "text/plain": [
       "<Figure size 432x288 with 1 Axes>"
      ]
     },
     "metadata": {
      "needs_background": "light"
     },
     "output_type": "display_data"
    }
   ],
   "source": [
    "# Plot training & validation accuracy values\n",
    "plt.plot(history.history['accuracy'])\n",
    "plt.plot(history.history['val_accuracy'])\n",
    "plt.title('Model accuracy')\n",
    "plt.ylabel('Accuracy')\n",
    "plt.xlabel('Epoch')\n",
    "plt.legend(['Train', 'Test'], loc='upper left')\n",
    "plt.show()\n",
    "\n",
    "# Plot training & validation loss values\n",
    "plt.plot(history.history['loss'])\n",
    "plt.plot(history.history['val_loss'])\n",
    "plt.title('Model loss')\n",
    "plt.ylabel('Loss')\n",
    "plt.xlabel('Epoch')\n",
    "plt.legend(['Train', 'Test'], loc='upper left')\n",
    "plt.show()"
   ]
  },
  {
   "cell_type": "markdown",
   "metadata": {},
   "source": [
    "### CNN"
   ]
  },
  {
   "cell_type": "code",
   "execution_count": 230,
   "metadata": {},
   "outputs": [
    {
     "name": "stdout",
     "output_type": "stream",
     "text": [
      "Model: \"sequential_22\"\n",
      "_________________________________________________________________\n",
      "Layer (type)                 Output Shape              Param #   \n",
      "=================================================================\n",
      "embedding_22 (Embedding)     (None, 1500, 100)         3591800   \n",
      "_________________________________________________________________\n",
      "conv1d (Conv1D)              (None, 1496, 128)         64128     \n",
      "_________________________________________________________________\n",
      "global_max_pooling1d_11 (Glo (None, 128)               0         \n",
      "_________________________________________________________________\n",
      "dense_38 (Dense)             (None, 10)                1290      \n",
      "_________________________________________________________________\n",
      "dense_39 (Dense)             (None, 6)                 66        \n",
      "=================================================================\n",
      "Total params: 3,657,284\n",
      "Trainable params: 3,657,284\n",
      "Non-trainable params: 0\n",
      "_________________________________________________________________\n"
     ]
    }
   ],
   "source": [
    "embedding_dim = 100\n",
    "\n",
    "model = Sequential()\n",
    "model.add(layers.Embedding(vocab_size, embedding_dim, input_length=maxlen))\n",
    "model.add(layers.Conv1D(128, 5, activation='relu'))\n",
    "model.add(layers.GlobalMaxPooling1D())\n",
    "model.add(layers.Dense(10, activation='relu'))\n",
    "model.add(layers.Dense(6, activation='sigmoid'))\n",
    "model.compile(optimizer='adam',\n",
    "              loss='sparse_categorical_crossentropy',\n",
    "              metrics=['accuracy'])\n",
    "model.summary()\n"
   ]
  },
  {
   "cell_type": "code",
   "execution_count": 232,
   "metadata": {},
   "outputs": [
    {
     "name": "stdout",
     "output_type": "stream",
     "text": [
      "Train on 3443 samples, validate on 2291 samples\n",
      "Epoch 1/10\n",
      "3443/3443 [==============================] - 48s 14ms/sample - loss: 1.0438 - accuracy: 0.6149 - val_loss: 0.8206 - val_accuracy: 0.7097\n",
      "Epoch 2/10\n",
      "3443/3443 [==============================] - 46s 13ms/sample - loss: 0.2676 - accuracy: 0.9088 - val_loss: 0.8470 - val_accuracy: 0.7372\n",
      "Epoch 3/10\n",
      "3443/3443 [==============================] - 46s 13ms/sample - loss: 0.0727 - accuracy: 0.9779 - val_loss: 0.8245 - val_accuracy: 0.7564\n",
      "Epoch 4/10\n",
      "3443/3443 [==============================] - 46s 13ms/sample - loss: 0.0506 - accuracy: 0.9802 - val_loss: 0.8699 - val_accuracy: 0.7521\n",
      "Epoch 5/10\n",
      "3443/3443 [==============================] - 46s 13ms/sample - loss: 0.0460 - accuracy: 0.9811 - val_loss: 0.8750 - val_accuracy: 0.7577\n",
      "Epoch 6/10\n",
      "3443/3443 [==============================] - 46s 13ms/sample - loss: 0.0428 - accuracy: 0.9814 - val_loss: 0.9305 - val_accuracy: 0.7486\n",
      "Epoch 7/10\n",
      "3443/3443 [==============================] - 46s 13ms/sample - loss: 0.0400 - accuracy: 0.9829 - val_loss: 0.9304 - val_accuracy: 0.7599\n",
      "Epoch 8/10\n",
      "3443/3443 [==============================] - 46s 13ms/sample - loss: 0.0390 - accuracy: 0.9829 - val_loss: 0.9277 - val_accuracy: 0.7599\n",
      "Epoch 9/10\n",
      "3443/3443 [==============================] - 46s 13ms/sample - loss: 0.0387 - accuracy: 0.9829 - val_loss: 0.9602 - val_accuracy: 0.7599\n",
      "Epoch 10/10\n",
      "3443/3443 [==============================] - 47s 14ms/sample - loss: 0.0384 - accuracy: 0.9823 - val_loss: 0.9789 - val_accuracy: 0.7560\n",
      "Training Accuracy: 0.9834\n",
      "Testing Accuracy:  0.7560\n"
     ]
    }
   ],
   "source": [
    "history = model.fit(X_train, newsgroup_train.target,\n",
    "                    epochs=10,\n",
    "                    verbose=True,\n",
    "                    validation_data=(X_test, newsgroup_test.target),\n",
    "                    batch_size=10)\n",
    "loss, accuracy = model.evaluate(X_train, newsgroup_train.target, verbose=False)\n",
    "print(\"Training Accuracy: {:.4f}\".format(accuracy))\n",
    "loss, accuracy = model.evaluate(X_test, newsgroup_test.target, verbose=False)\n",
    "print(\"Testing Accuracy:  {:.4f}\".format(accuracy))"
   ]
  },
  {
   "cell_type": "code",
   "execution_count": 233,
   "metadata": {},
   "outputs": [
    {
     "data": {
      "image/png": "[encoded data removed]",
      "text/plain": [
       "<Figure size 432x288 with 1 Axes>"
      ]
     },
     "metadata": {
      "needs_background": "light"
     },
     "output_type": "display_data"
    },
    {
     "data": {
      "image/png": "[encoded data removed]",
      "text/plain": [
       "<Figure size 432x288 with 1 Axes>"
      ]
     },
     "metadata": {
      "needs_background": "light"
     },
     "output_type": "display_data"
    }
   ],
   "source": [
    "# Plot training & validation accuracy values\n",
    "plt.plot(history.history['accuracy'])\n",
    "plt.plot(history.history['val_accuracy'])\n",
    "plt.title('Model accuracy')\n",
    "plt.ylabel('Accuracy')\n",
    "plt.xlabel('Epoch')\n",
    "plt.legend(['Train', 'Test'], loc='upper left')\n",
    "plt.show()\n",
    "\n",
    "# Plot training & validation loss values\n",
    "plt.plot(history.history['loss'])\n",
    "plt.plot(history.history['val_loss'])\n",
    "plt.title('Model loss')\n",
    "plt.ylabel('Loss')\n",
    "plt.xlabel('Epoch')\n",
    "plt.legend(['Train', 'Test'], loc='upper left')\n",
    "plt.show()"
   ]
  },
  {
   "cell_type": "markdown",
   "metadata": {},
   "source": [
    "## Another Word Embedding Model\n",
    "\n",
    "See https://qiita.com/takeshikondo/items/419bebc4f9e6c78d5ea9\n"
   ]
  },
  {
   "cell_type": "code",
   "execution_count": 302,
   "metadata": {},
   "outputs": [
    {
     "name": "stdout",
     "output_type": "stream",
     "text": [
      "Model: \"sequential_41\"\n",
      "_________________________________________________________________\n",
      "Layer (type)                 Output Shape              Param #   \n",
      "=================================================================\n",
      "embedding_40 (Embedding)     (None, 1000, 50)          1795900   \n",
      "_________________________________________________________________\n",
      "conv1d_28 (Conv1D)           (None, 996, 128)          32128     \n",
      "_________________________________________________________________\n",
      "max_pooling1d_27 (MaxPooling (None, 199, 128)          0         \n",
      "_________________________________________________________________\n",
      "conv1d_29 (Conv1D)           (None, 195, 128)          82048     \n",
      "_________________________________________________________________\n",
      "max_pooling1d_28 (MaxPooling (None, 39, 128)           0         \n",
      "_________________________________________________________________\n",
      "conv1d_30 (Conv1D)           (None, 35, 128)           82048     \n",
      "_________________________________________________________________\n",
      "max_pooling1d_29 (MaxPooling (None, 1, 128)            0         \n",
      "_________________________________________________________________\n",
      "flatten_22 (Flatten)         (None, 128)               0         \n",
      "_________________________________________________________________\n",
      "dense_69 (Dense)             (None, 128)               16512     \n",
      "_________________________________________________________________\n",
      "dense_70 (Dense)             (None, 6)                 774       \n",
      "=================================================================\n",
      "Total params: 2,009,410\n",
      "Trainable params: 213,510\n",
      "Non-trainable params: 1,795,900\n",
      "_________________________________________________________________\n"
     ]
    }
   ],
   "source": [
    "model = Sequential()\n",
    "\n",
    "model.add(layers.InputLayer(input_shape=(maxlen,), dtype='int32'))\n",
    "model.add(layers.Embedding(input_dim=vocab_size, output_dim=embedding_dim, \n",
    "                           weights=[embedding_matrix], \n",
    "                           input_length=maxlen, \n",
    "                           trainable=False))\n",
    "model.add(layers.Conv1D(128, 5, activation='relu'))\n",
    "model.add(layers.MaxPooling1D(5))\n",
    "model.add(layers.Conv1D(128, 5, activation='relu'))\n",
    "model.add(layers.MaxPooling1D(5))\n",
    "model.add(layers.Conv1D(128, 5, activation='relu'))\n",
    "model.add(layers.MaxPooling1D(35))  # global max pooling\n",
    "\n",
    "model.add(layers.Flatten())\n",
    "model.add(layers.Dense(128, activation='relu'))\n",
    "model.add(layers.Dense(6, activation='softmax'))\n",
    "\n",
    "model.compile(optimizer='adam',\n",
    "              loss='sparse_categorical_crossentropy',\n",
    "              metrics=['accuracy'])\n",
    "\n",
    "model.summary()\n"
   ]
  },
  {
   "cell_type": "code",
   "execution_count": 303,
   "metadata": {},
   "outputs": [
    {
     "name": "stdout",
     "output_type": "stream",
     "text": [
      "Train on 3443 samples, validate on 2291 samples\n",
      "Epoch 1/10\n",
      "3443/3443 [==============================] - 17s 5ms/sample - loss: 1.4081 - accuracy: 0.4243 - val_loss: 1.0654 - val_accuracy: 0.5378\n",
      "Epoch 2/10\n",
      "3443/3443 [==============================] - 16s 5ms/sample - loss: 0.8551 - accuracy: 0.6306 - val_loss: 0.9257 - val_accuracy: 0.6242\n",
      "Epoch 3/10\n",
      "3443/3443 [==============================] - 16s 5ms/sample - loss: 0.7286 - accuracy: 0.6759 - val_loss: 0.9142 - val_accuracy: 0.6281\n",
      "Epoch 4/10\n",
      "3443/3443 [==============================] - 16s 5ms/sample - loss: 0.6470 - accuracy: 0.7241 - val_loss: 0.9157 - val_accuracy: 0.6342\n",
      "Epoch 5/10\n",
      "3443/3443 [==============================] - 16s 5ms/sample - loss: 0.5790 - accuracy: 0.7488 - val_loss: 0.8716 - val_accuracy: 0.6704\n",
      "Epoch 6/10\n",
      "3443/3443 [==============================] - 16s 5ms/sample - loss: 0.4772 - accuracy: 0.8132 - val_loss: 0.8620 - val_accuracy: 0.6709\n",
      "Epoch 7/10\n",
      "3443/3443 [==============================] - 16s 5ms/sample - loss: 0.4224 - accuracy: 0.8330 - val_loss: 0.9106 - val_accuracy: 0.6652\n",
      "Epoch 8/10\n",
      "3443/3443 [==============================] - 16s 5ms/sample - loss: 0.3554 - accuracy: 0.8670 - val_loss: 0.8616 - val_accuracy: 0.6962\n",
      "Epoch 9/10\n",
      "3443/3443 [==============================] - 16s 5ms/sample - loss: 0.2762 - accuracy: 0.8963 - val_loss: 0.9979 - val_accuracy: 0.6792\n",
      "Epoch 10/10\n",
      "3443/3443 [==============================] - 16s 5ms/sample - loss: 0.2352 - accuracy: 0.9184 - val_loss: 0.9476 - val_accuracy: 0.6945\n",
      "Training Accuracy: 0.9445\n",
      "Testing Accuracy:  0.6945\n"
     ]
    }
   ],
   "source": [
    "history = model.fit(X_train, newsgroup_train.target,\n",
    "                    epochs=10,\n",
    "                    verbose=True,\n",
    "                    validation_data=(X_test, newsgroup_test.target),\n",
    "                    batch_size=128)\n",
    "loss, accuracy = model.evaluate(X_train, newsgroup_train.target, verbose=False)\n",
    "print(\"Training Accuracy: {:.4f}\".format(accuracy))\n",
    "loss, accuracy = model.evaluate(X_test, newsgroup_test.target, verbose=False)\n",
    "print(\"Testing Accuracy:  {:.4f}\".format(accuracy))"
   ]
  },
  {
   "cell_type": "code",
   "execution_count": 304,
   "metadata": {},
   "outputs": [
    {
     "data": {
      "image/png": "[encoded data removed]",
      "text/plain": [
       "<Figure size 432x288 with 1 Axes>"
      ]
     },
     "metadata": {
      "needs_background": "light"
     },
     "output_type": "display_data"
    },
    {
     "data": {
      "image/png": "[encoded data removed]",
      "text/plain": [
       "<Figure size 432x288 with 1 Axes>"
      ]
     },
     "metadata": {
      "needs_background": "light"
     },
     "output_type": "display_data"
    }
   ],
   "source": [
    "# Plot training & validation accuracy values\n",
    "plt.plot(history.history['accuracy'])\n",
    "plt.plot(history.history['val_accuracy'])\n",
    "plt.title('Model accuracy')\n",
    "plt.ylabel('Accuracy')\n",
    "plt.xlabel('Epoch')\n",
    "plt.legend(['Train', 'Test'], loc='upper left')\n",
    "plt.show()\n",
    "\n",
    "# Plot training & validation loss values\n",
    "plt.plot(history.history['loss'])\n",
    "plt.plot(history.history['val_loss'])\n",
    "plt.title('Model loss')\n",
    "plt.ylabel('Loss')\n",
    "plt.xlabel('Epoch')\n",
    "plt.legend(['Train', 'Test'], loc='upper left')\n",
    "plt.show()"
   ]
  },
  {
   "cell_type": "code",
   "execution_count": null,
   "metadata": {},
   "outputs": [],
   "source": []
  }
 ],
 "metadata": {
  "kernelspec": {
   "display_name": "Python 3",
   "language": "python",
   "name": "python3"
  },
  "language_info": {
   "codemirror_mode": {
    "name": "ipython",
    "version": 3
   },
   "file_extension": ".py",
   "mimetype": "text/x-python",
   "name": "python",
   "nbconvert_exporter": "python",
   "pygments_lexer": "ipython3",
   "version": "3.7.6"
  }
 },
 "nbformat": 4,
 "nbformat_minor": 4
}
