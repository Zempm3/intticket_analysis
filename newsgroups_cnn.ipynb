{
 "cells": [
  {
   "cell_type": "code",
   "execution_count": 1,
   "metadata": {},
   "outputs": [],
   "source": [
    "import numpy as np\n",
    "import matplotlib.pyplot as plt\n",
    "import pandas as pd\n",
    "from sklearn.datasets import fetch_20newsgroups\n",
    "from tensorflow.keras.preprocessing.text import Tokenizer\n",
    "from sklearn.preprocessing import LabelEncoder\n",
    "from tensorflow.keras.preprocessing.sequence import pad_sequences\n",
    "from tensorflow.keras.models import Sequential\n",
    "from tensorflow.keras import layers\n",
    "from nltk.corpus import stopwords\n",
    "from nltk.tokenize import word_tokenize\n",
    "from nltk.stem import PorterStemmer\n",
    "from nltk.tokenize import RegexpTokenizer\n",
    "import nltk"
   ]
  },
  {
   "cell_type": "code",
   "execution_count": 2,
   "metadata": {},
   "outputs": [],
   "source": [
    "# read in data - here I took the same categories as we had in the lesson\n",
    "categories = ['soc.religion.christian', 'comp.graphics', 'sci.med', 'comp.windows.x', 'sci.space', 'alt.atheism']\n",
    "newsgroup_train = fetch_20newsgroups(subset='train', categories=categories, shuffle=True)\n",
    "newsgroup_test = fetch_20newsgroups(subset='test', categories=categories)"
   ]
  },
  {
   "cell_type": "code",
   "execution_count": 3,
   "metadata": {
    "scrolled": true
   },
   "outputs": [
    {
     "name": "stdout",
     "output_type": "stream",
     "text": [
      "{'has', \"didn't\", 'herself', 'their', 'into', 'hasn', 'own', 'the', \"wouldn't\", 'did', 'what', 'against', 'before', \"don't\", 'ma', 'yours', \"needn't\", 'and', 'under', 'which', 'than', 'won', 'this', 'do', 'we', 'me', 'who', 'out', 'it', 'is', 'there', 're', 'didn', 'or', 'aren', 'be', \"isn't\", \"you'd\", 'll', 'only', 'she', 'by', 'no', 'don', 'if', 'because', 'between', 'so', 'doing', 'his', 'yourself', 'will', 'these', 'been', 'whom', 'd', 'where', 'myself', 'theirs', 'hers', 'he', \"couldn't\", 'during', 'after', 'its', 'an', 'them', 'when', 'her', 'at', 'your', 'why', 'that', \"doesn't\", 'those', 'while', 'over', 'until', 'just', 'shouldn', \"weren't\", 'yourselves', \"she's\", 'does', 'nor', 'a', 'how', 'should', 'to', 'again', 'some', 'couldn', 'shan', 'doesn', 'being', \"hasn't\", 'below', 'above', 'more', 'such', 'you', 'y', 'haven', 'from', 'm', 'too', \"should've\", 'both', \"shan't\", \"shouldn't\", 'few', 'were', 'most', \"aren't\", 'ain', 'off', 'wouldn', \"won't\", 'about', 'am', 'each', 'weren', 'i', 'but', 'having', 'ourselves', 'itself', \"wasn't\", 'needn', 'mustn', \"haven't\", 'hadn', \"mightn't\", 'not', 'further', 'once', 'then', \"you're\", 'are', 'up', 'same', 'any', 'through', 'ours', 'on', 'they', 'here', 'for', 'in', 'wasn', 't', 'had', 'all', \"mustn't\", 'of', \"you've\", \"it's\", 'him', 'was', 'mightn', 'very', 'now', \"hadn't\", 'down', 've', 'o', 'himself', \"that'll\", 'can', 'have', 'my', 's', 'themselves', 'other', 'our', 'as', 'with', 'isn', \"you'll\"}\n"
     ]
    }
   ],
   "source": [
    "stop_words = set(stopwords.words('english')) \n",
    "print(stop_words)"
   ]
  },
  {
   "cell_type": "code",
   "execution_count": 4,
   "metadata": {},
   "outputs": [],
   "source": [
    "stop_words.update(['find','would','be','one','say','made','think','subject','see','fnal','articl','feel','given','led',\n",
    "                  'view','way','either','however','yet'])"
   ]
  },
  {
   "cell_type": "code",
   "execution_count": 5,
   "metadata": {},
   "outputs": [],
   "source": [
    "# get rid of stop words e.g. with nltk\n",
    "ps = PorterStemmer()\n",
    "tokenizer = RegexpTokenizer(r'\\w+')\n",
    "\n",
    "newsgroup_trainN = []\n",
    "i = 0\n",
    "for message in newsgroup_train.data:\n",
    "    text_token = tokenizer.tokenize(message)\n",
    "    messageN = ''\n",
    "    for word in text_token:\n",
    "        word = word.lower()\n",
    "        if word not in stop_words:\n",
    "            messageN = messageN + ' ' + ps.stem(word)\n",
    "    newsgroup_trainN.append(messageN)\n",
    "newsgroup_train.data = newsgroup_trainN"
   ]
  },
  {
   "cell_type": "code",
   "execution_count": 6,
   "metadata": {
    "scrolled": true
   },
   "outputs": [
    {
     "data": {
      "text/plain": [
       "' rexlex gov athiest hell organ ad net line 157 articl may 6 00 35 31 1993 15453 geneva rutger edu sun075 gerri palo uunet uu net gerri palo write adam eve golgotha whole process fall man occur involv gradual dim conscious spiritu world precis point theolog bent live immedi flood noah ham son cush son nimrod much stronger appreci divin wrath also stronger understand true god fact immediaci caus hardship much atla seen heaven rest shoulder mere physic heaven lift put god strict spiritu law distanc thu becam elev heaven god men abl heaven afar god heaven could dark cloud regard displeasur breaker law interest titl emancip deliver phoroneu nimrod invad patriarch system abridg liberti mankind worship mani benefit deliver right christ deliver deliv consciou feel god wrath actual perform deliveri god wrath us accept true question happen human be die christ ever present christian readi consign adam abraham even cain etern damnat problem time adam look forward come anoint put faith fact god provis account righteou crucifixion sin cover taken away therefor dispens church view account sin complet action rom make clear alway salvat via faith noth els possibl experi etern pass moment relationship etern durat simpli indefinit extend condit greenwich mean time understand tri convey lay hold scriptur equat etern second death etern church rule christ jn 17 tell us etern life exactli correct much non cessat conscious also standard belief among mani peopl even righteou lost depend upon def lost elect lost time outsid time chosen foundat world existenti born lost righteou christ therefor never assuredli lost interest share result studi ancient peopl idea life death mayb summer could time put togeth paper simpli buy book older book expens countless trip orient museum mankind fell mist dark turn point time new light enter world light still grow develop eye much new revel growth stand lie us new vision understand still feebl contain someth new grow time embrac old much well agre understand eschatolog clearli clearer isaiah refer point acknowledg openli debt work rudolf steiner founder anthroposophi mani insight view refer doctrin put modern intellectu color much less abstract much real spiritu concret teach struck much closer home doctrin teach today receiv understand said point readi attribut widespread notion antiqu simpl dispers origin sourc even pass question extent reflect real percept experi ah big question best lie appreci amount truth look satan twist god word coerc eve interest studi similar midst great varieti express differ peopl idea time immedi death testifi presenc underli realiti ye point two edg sword want underli realiti reveal known mysteri religion reason public side privat side protect initi oath death reveal privat side hard bring teach light mysteri iniqu bibl correl primari object mysteri introduc privat littl littl seal secreci sanction oath safe openli profess true religion case point today might mason note worship osiri egypt trace nimrod husband son hand notion firmli embed christian origin definit pagan sourc idea human consist essenti soul soul creat birth conscious adopt aristotl whose idea domin christian thought fifteen hundr year still today disagre gerri know allud church primarili rcc endors aristotelian philosophi worldview disagre origin greec student histori come much greec came expound world origin adulter taken conquer countri soul clearli mention discuss length egyptian religion uniti god also triniti god wilkinson egyptian realli number greek pilfer egyptian father modern thought time live darken time percept etern spiritu grown dim knock aristotl plato greek thinker noth new sun inde also clarifi deni etern irrevoc damnat real possibl narrow rang conceiv decis moment e end singl earthli life mind suffici embrac realiti earli creed couch term tri spell age focu theolog earli church struggl trinitarian formul reform dealt author today eschatolog much studi earli creed spell thing detail 1 topic concern 2 insuffici wisdom accumul 3 exeget tool today also age seem air revel age well tend cultiv garden particular doctrin growth natur end time garden appropri growth eschatolog tangent never end tangent rex'"
      ]
     },
     "execution_count": 6,
     "metadata": {},
     "output_type": "execute_result"
    }
   ],
   "source": [
    "newsgroup_train.data[0]"
   ]
  },
  {
   "cell_type": "code",
   "execution_count": 7,
   "metadata": {},
   "outputs": [
    {
     "name": "stdout",
     "output_type": "stream",
     "text": [
      "37279\n"
     ]
    }
   ],
   "source": [
    "# tokenize words\n",
    "tokenizer = Tokenizer(num_words=1000)\n",
    "tokenizer.fit_on_texts(newsgroup_train.data)\n",
    "\n",
    "# get size of vocabulary \n",
    "# 1 needs to be added because of resrver 0 index\n",
    "vocab_size = len(tokenizer.word_index) + 1\n",
    "print(vocab_size)\n",
    "\n",
    "X_train = tokenizer.texts_to_sequences(newsgroup_train.data)\n",
    "X_test = tokenizer.texts_to_sequences(newsgroup_test.data)"
   ]
  },
  {
   "cell_type": "code",
   "execution_count": 8,
   "metadata": {},
   "outputs": [],
   "source": [
    "# padding\n",
    "maxlen = 100\n",
    "\n",
    "X_train = pad_sequences(X_train, padding='post', maxlen=maxlen)\n",
    "X_test = pad_sequences(X_test, padding='post', maxlen=maxlen)"
   ]
  },
  {
   "cell_type": "code",
   "execution_count": 10,
   "metadata": {},
   "outputs": [
    {
     "name": "stdout",
     "output_type": "stream",
     "text": [
      "Model: \"sequential_1\"\n",
      "_________________________________________________________________\n",
      "Layer (type)                 Output Shape              Param #   \n",
      "=================================================================\n",
      "embedding_1 (Embedding)      (None, 100, 50)           1863950   \n",
      "_________________________________________________________________\n",
      "flatten_1 (Flatten)          (None, 5000)              0         \n",
      "_________________________________________________________________\n",
      "dense_2 (Dense)              (None, 10)                50010     \n",
      "_________________________________________________________________\n",
      "dense_3 (Dense)              (None, 6)                 66        \n",
      "=================================================================\n",
      "Total params: 1,914,026\n",
      "Trainable params: 1,914,026\n",
      "Non-trainable params: 0\n",
      "_________________________________________________________________\n"
     ]
    }
   ],
   "source": [
    "# Using a word embedding layer\n",
    "\n",
    "embedding_dim = 50\n",
    "\n",
    "model = Sequential()\n",
    "model.add(layers.Embedding(input_dim=vocab_size, \n",
    "                           output_dim=embedding_dim, \n",
    "                           input_length=maxlen))\n",
    "model.add(layers.Flatten())\n",
    "model.add(layers.Dense(10, activation='relu'))\n",
    "model.add(layers.Dense(6, activation='softmax'))\n",
    "model.compile(optimizer='adam',\n",
    "              loss='sparse_categorical_crossentropy',\n",
    "              metrics=['accuracy'])\n",
    "model.summary()"
   ]
  },
  {
   "cell_type": "code",
   "execution_count": 11,
   "metadata": {},
   "outputs": [
    {
     "name": "stdout",
     "output_type": "stream",
     "text": [
      "Train on 3443 samples, validate on 2291 samples\n",
      "Epoch 1/20\n",
      "3443/3443 [==============================] - 16s 5ms/sample - loss: 1.2850 - accuracy: 0.4990 - val_loss: 0.9383 - val_accuracy: 0.6281\n",
      "Epoch 2/20\n",
      "3443/3443 [==============================] - 15s 4ms/sample - loss: 0.3420 - accuracy: 0.8960 - val_loss: 0.7464 - val_accuracy: 0.7294\n",
      "Epoch 3/20\n",
      "3443/3443 [==============================] - 15s 4ms/sample - loss: 0.1181 - accuracy: 0.9712 - val_loss: 0.7865 - val_accuracy: 0.7237\n",
      "Epoch 4/20\n",
      "3443/3443 [==============================] - 16s 5ms/sample - loss: 0.0468 - accuracy: 0.9936 - val_loss: 0.7544 - val_accuracy: 0.7451\n",
      "Epoch 5/20\n",
      "3443/3443 [==============================] - 15s 4ms/sample - loss: 0.0204 - accuracy: 0.9991 - val_loss: 0.7951 - val_accuracy: 0.7490\n",
      "Epoch 6/20\n",
      "3443/3443 [==============================] - 16s 5ms/sample - loss: 0.0105 - accuracy: 0.9997 - val_loss: 0.8341 - val_accuracy: 0.7433\n",
      "Epoch 7/20\n",
      "3443/3443 [==============================] - 15s 4ms/sample - loss: 0.0061 - accuracy: 1.0000 - val_loss: 0.8954 - val_accuracy: 0.7399\n",
      "Epoch 8/20\n",
      "3443/3443 [==============================] - 16s 5ms/sample - loss: 0.0037 - accuracy: 1.0000 - val_loss: 0.8933 - val_accuracy: 0.7433\n",
      "Epoch 9/20\n",
      "3443/3443 [==============================] - 15s 4ms/sample - loss: 0.0025 - accuracy: 1.0000 - val_loss: 0.9318 - val_accuracy: 0.7346\n",
      "Epoch 10/20\n",
      "3443/3443 [==============================] - 16s 5ms/sample - loss: 0.0018 - accuracy: 1.0000 - val_loss: 0.9502 - val_accuracy: 0.7403\n",
      "Epoch 11/20\n",
      "3443/3443 [==============================] - 15s 4ms/sample - loss: 0.0013 - accuracy: 1.0000 - val_loss: 0.9719 - val_accuracy: 0.7412\n",
      "Epoch 12/20\n",
      "3443/3443 [==============================] - 16s 5ms/sample - loss: 9.7012e-04 - accuracy: 1.0000 - val_loss: 0.9933 - val_accuracy: 0.7407\n",
      "Epoch 13/20\n",
      "3443/3443 [==============================] - 16s 5ms/sample - loss: 7.3888e-04 - accuracy: 1.0000 - val_loss: 1.0135 - val_accuracy: 0.7394\n",
      "Epoch 14/20\n",
      "3443/3443 [==============================] - 16s 5ms/sample - loss: 5.6679e-04 - accuracy: 1.0000 - val_loss: 1.0426 - val_accuracy: 0.7403\n",
      "Epoch 15/20\n",
      "3443/3443 [==============================] - 16s 5ms/sample - loss: 4.3985e-04 - accuracy: 1.0000 - val_loss: 1.0635 - val_accuracy: 0.7390\n",
      "Epoch 16/20\n",
      "3443/3443 [==============================] - 15s 4ms/sample - loss: 3.4445e-04 - accuracy: 1.0000 - val_loss: 1.0723 - val_accuracy: 0.7425\n",
      "Epoch 17/20\n",
      "3443/3443 [==============================] - 15s 4ms/sample - loss: 2.7373e-04 - accuracy: 1.0000 - val_loss: 1.1009 - val_accuracy: 0.7399\n",
      "Epoch 18/20\n",
      "3443/3443 [==============================] - 15s 4ms/sample - loss: 2.1781e-04 - accuracy: 1.0000 - val_loss: 1.1179 - val_accuracy: 0.7399\n",
      "Epoch 19/20\n",
      "3443/3443 [==============================] - 15s 4ms/sample - loss: 1.7260e-04 - accuracy: 1.0000 - val_loss: 1.1337 - val_accuracy: 0.7407\n",
      "Epoch 20/20\n",
      "3443/3443 [==============================] - 15s 4ms/sample - loss: 1.3855e-04 - accuracy: 1.0000 - val_loss: 1.1546 - val_accuracy: 0.7377\n",
      "Training Accuracy: 1.0000\n",
      "Testing Accuracy:  0.7377\n"
     ]
    }
   ],
   "source": [
    "history = model.fit(X_train, newsgroup_train.target,\n",
    "                    epochs=20,\n",
    "                    verbose=True,\n",
    "                    validation_data=(X_test, newsgroup_test.target),\n",
    "                    batch_size=10)\n",
    "loss, accuracy = model.evaluate(X_train, newsgroup_train.target, verbose=False)\n",
    "print(\"Training Accuracy: {:.4f}\".format(accuracy))\n",
    "loss, accuracy = model.evaluate(X_test, newsgroup_test.target, verbose=False)\n",
    "print(\"Testing Accuracy:  {:.4f}\".format(accuracy))"
   ]
  },
  {
   "cell_type": "code",
   "execution_count": 12,
   "metadata": {
    "scrolled": true
   },
   "outputs": [
    {
     "data": {
      "image/png": "[encoded data removed]",
      "text/plain": [
       "<Figure size 432x288 with 1 Axes>"
      ]
     },
     "metadata": {
      "needs_background": "light"
     },
     "output_type": "display_data"
    },
    {
     "data": {
      "image/png": "[encoded data removed]",
      "text/plain": [
       "<Figure size 432x288 with 1 Axes>"
      ]
     },
     "metadata": {
      "needs_background": "light"
     },
     "output_type": "display_data"
    }
   ],
   "source": [
    "# Plot training & validation accuracy values\n",
    "plt.plot(history.history['accuracy'])\n",
    "plt.plot(history.history['val_accuracy'])\n",
    "plt.title('Model accuracy')\n",
    "plt.ylabel('Accuracy')\n",
    "plt.xlabel('Epoch')\n",
    "plt.legend(['Train', 'Test'], loc='upper left')\n",
    "plt.show()\n",
    "\n",
    "# Plot training & validation loss values\n",
    "plt.plot(history.history['loss'])\n",
    "plt.plot(history.history['val_loss'])\n",
    "plt.title('Model loss')\n",
    "plt.ylabel('Loss')\n",
    "plt.xlabel('Epoch')\n",
    "plt.legend(['Train', 'Test'], loc='upper left')\n",
    "plt.show()"
   ]
  },
  {
   "cell_type": "code",
   "execution_count": 13,
   "metadata": {},
   "outputs": [
    {
     "name": "stdout",
     "output_type": "stream",
     "text": [
      "Model: \"sequential_2\"\n",
      "_________________________________________________________________\n",
      "Layer (type)                 Output Shape              Param #   \n",
      "=================================================================\n",
      "embedding_2 (Embedding)      (None, 100, 50)           1863950   \n",
      "_________________________________________________________________\n",
      "global_max_pooling1d (Global (None, 50)                0         \n",
      "_________________________________________________________________\n",
      "dense_4 (Dense)              (None, 10)                510       \n",
      "_________________________________________________________________\n",
      "dense_5 (Dense)              (None, 6)                 66        \n",
      "=================================================================\n",
      "Total params: 1,864,526\n",
      "Trainable params: 1,864,526\n",
      "Non-trainable params: 0\n",
      "_________________________________________________________________\n"
     ]
    }
   ],
   "source": [
    "# nother way to work with embeddings is by using a MaxPooling1D/AveragePooling1D\n",
    "# or a GlobalMaxPooling1D/GlobalAveragePooling1D layer after the embedding.\n",
    "# You can think of the pooling layers as a way to downsample (a way to reduce the size of)\n",
    "# the incoming feature vectors\n",
    "\n",
    "embedding_dim = 50\n",
    "\n",
    "model = Sequential()\n",
    "model.add(layers.Embedding(input_dim=vocab_size, \n",
    "                           output_dim=embedding_dim, \n",
    "                           input_length=maxlen))\n",
    "model.add(layers.GlobalMaxPool1D())\n",
    "model.add(layers.Dense(10, activation='relu'))\n",
    "model.add(layers.Dense(6, activation='softmax'))\n",
    "model.compile(optimizer='adam',\n",
    "              loss='sparse_categorical_crossentropy',\n",
    "              metrics=['accuracy'])\n",
    "model.summary()"
   ]
  },
  {
   "cell_type": "code",
   "execution_count": 14,
   "metadata": {},
   "outputs": [
    {
     "name": "stdout",
     "output_type": "stream",
     "text": [
      "Train on 3443 samples, validate on 2291 samples\n",
      "Epoch 1/10\n",
      "3443/3443 [==============================] - 16s 5ms/sample - loss: 1.6382 - accuracy: 0.3645 - val_loss: 1.4403 - val_accuracy: 0.4919\n",
      "Epoch 2/10\n",
      "3443/3443 [==============================] - 14s 4ms/sample - loss: 0.9489 - accuracy: 0.7671 - val_loss: 0.9609 - val_accuracy: 0.7080\n",
      "Epoch 3/10\n",
      "3443/3443 [==============================] - 15s 4ms/sample - loss: 0.5167 - accuracy: 0.8594 - val_loss: 0.7902 - val_accuracy: 0.7359\n",
      "Epoch 4/10\n",
      "3443/3443 [==============================] - 15s 4ms/sample - loss: 0.3597 - accuracy: 0.8920 - val_loss: 0.7198 - val_accuracy: 0.7525\n",
      "Epoch 5/10\n",
      "3443/3443 [==============================] - 14s 4ms/sample - loss: 0.2719 - accuracy: 0.9140 - val_loss: 0.7060 - val_accuracy: 0.7486\n",
      "Epoch 6/10\n",
      "3443/3443 [==============================] - 15s 4ms/sample - loss: 0.2110 - accuracy: 0.9367 - val_loss: 0.6812 - val_accuracy: 0.7604\n",
      "Epoch 7/10\n",
      "3443/3443 [==============================] - 14s 4ms/sample - loss: 0.1657 - accuracy: 0.9509 - val_loss: 0.6902 - val_accuracy: 0.7577\n",
      "Epoch 8/10\n",
      "3443/3443 [==============================] - 15s 4ms/sample - loss: 0.1296 - accuracy: 0.9681 - val_loss: 0.6980 - val_accuracy: 0.7582\n",
      "Epoch 9/10\n",
      "3443/3443 [==============================] - 15s 4ms/sample - loss: 0.1014 - accuracy: 0.9771 - val_loss: 0.7199 - val_accuracy: 0.7586\n",
      "Epoch 10/10\n",
      "3443/3443 [==============================] - 15s 4ms/sample - loss: 0.0782 - accuracy: 0.9866 - val_loss: 0.7549 - val_accuracy: 0.7608\n",
      "Training Accuracy: 0.9933\n",
      "Testing Accuracy:  0.7608\n"
     ]
    }
   ],
   "source": [
    "history = model.fit(X_train, newsgroup_train.target,\n",
    "                    epochs=10,\n",
    "                    verbose=True,\n",
    "                    validation_data=(X_test, newsgroup_test.target),\n",
    "                    batch_size=10)\n",
    "loss, accuracy = model.evaluate(X_train, newsgroup_train.target, verbose=False)\n",
    "print(\"Training Accuracy: {:.4f}\".format(accuracy))\n",
    "loss, accuracy = model.evaluate(X_test, newsgroup_test.target, verbose=False)\n",
    "print(\"Testing Accuracy:  {:.4f}\".format(accuracy))"
   ]
  },
  {
   "cell_type": "code",
   "execution_count": 15,
   "metadata": {},
   "outputs": [
    {
     "data": {
      "image/png": "[encoded data removed]",
      "text/plain": [
       "<Figure size 432x288 with 1 Axes>"
      ]
     },
     "metadata": {
      "needs_background": "light"
     },
     "output_type": "display_data"
    },
    {
     "data": {
      "image/png": "[encoded data removed]",
      "text/plain": [
       "<Figure size 432x288 with 1 Axes>"
      ]
     },
     "metadata": {
      "needs_background": "light"
     },
     "output_type": "display_data"
    }
   ],
   "source": [
    "# Plot training & validation accuracy values\n",
    "plt.plot(history.history['accuracy'])\n",
    "plt.plot(history.history['val_accuracy'])\n",
    "plt.title('Model accuracy')\n",
    "plt.ylabel('Accuracy')\n",
    "plt.xlabel('Epoch')\n",
    "plt.legend(['Train', 'Test'], loc='upper left')\n",
    "plt.show()\n",
    "\n",
    "# Plot training & validation loss values\n",
    "plt.plot(history.history['loss'])\n",
    "plt.plot(history.history['val_loss'])\n",
    "plt.title('Model loss')\n",
    "plt.ylabel('Loss')\n",
    "plt.xlabel('Epoch')\n",
    "plt.legend(['Train', 'Test'], loc='upper left')\n",
    "plt.show()"
   ]
  },
  {
   "cell_type": "code",
   "execution_count": null,
   "metadata": {},
   "outputs": [],
   "source": [
    "# pre-trained word embedding?\n"
   ]
  },
  {
   "cell_type": "code",
   "execution_count": 16,
   "metadata": {},
   "outputs": [
    {
     "name": "stdout",
     "output_type": "stream",
     "text": [
      "Model: \"sequential_3\"\n",
      "_________________________________________________________________\n",
      "Layer (type)                 Output Shape              Param #   \n",
      "=================================================================\n",
      "embedding_3 (Embedding)      (None, 100, 100)          3727900   \n",
      "_________________________________________________________________\n",
      "conv1d (Conv1D)              (None, 96, 128)           64128     \n",
      "_________________________________________________________________\n",
      "global_max_pooling1d_1 (Glob (None, 128)               0         \n",
      "_________________________________________________________________\n",
      "dense_6 (Dense)              (None, 10)                1290      \n",
      "_________________________________________________________________\n",
      "dense_7 (Dense)              (None, 6)                 66        \n",
      "=================================================================\n",
      "Total params: 3,793,384\n",
      "Trainable params: 3,793,384\n",
      "Non-trainable params: 0\n",
      "_________________________________________________________________\n"
     ]
    }
   ],
   "source": [
    "# use CNN hidden layer\n",
    "\n",
    "embedding_dim = 100\n",
    "\n",
    "model = Sequential()\n",
    "model.add(layers.Embedding(vocab_size, embedding_dim, input_length=maxlen))\n",
    "model.add(layers.Conv1D(128, 5, activation='relu'))\n",
    "model.add(layers.GlobalMaxPooling1D())\n",
    "model.add(layers.Dense(10, activation='relu'))\n",
    "model.add(layers.Dense(6, activation='softmax'))\n",
    "model.compile(optimizer='adam',\n",
    "              loss='sparse_categorical_crossentropy',\n",
    "              metrics=['accuracy'])\n",
    "model.summary()"
   ]
  },
  {
   "cell_type": "code",
   "execution_count": 17,
   "metadata": {},
   "outputs": [
    {
     "name": "stdout",
     "output_type": "stream",
     "text": [
      "Train on 3443 samples, validate on 2291 samples\n",
      "Epoch 1/10\n",
      "3443/3443 [==============================] - 31s 9ms/sample - loss: 1.2230 - accuracy: 0.5469 - val_loss: 0.8392 - val_accuracy: 0.7062\n",
      "Epoch 2/10\n",
      "3443/3443 [==============================] - 30s 9ms/sample - loss: 0.3335 - accuracy: 0.8963 - val_loss: 0.7531 - val_accuracy: 0.7377\n",
      "Epoch 3/10\n",
      "3443/3443 [==============================] - 29s 8ms/sample - loss: 0.1271 - accuracy: 0.9640 - val_loss: 0.9172 - val_accuracy: 0.7163\n",
      "Epoch 4/10\n",
      "3443/3443 [==============================] - 30s 9ms/sample - loss: 0.0429 - accuracy: 0.9948 - val_loss: 0.9224 - val_accuracy: 0.7399\n",
      "Epoch 5/10\n",
      "3443/3443 [==============================] - 29s 9ms/sample - loss: 0.0133 - accuracy: 1.0000 - val_loss: 1.0213 - val_accuracy: 0.7342\n",
      "Epoch 6/10\n",
      "3443/3443 [==============================] - 32s 9ms/sample - loss: 0.0053 - accuracy: 1.0000 - val_loss: 1.0831 - val_accuracy: 0.7342\n",
      "Epoch 7/10\n",
      "3443/3443 [==============================] - 32s 9ms/sample - loss: 0.0029 - accuracy: 1.0000 - val_loss: 1.1412 - val_accuracy: 0.7346\n",
      "Epoch 8/10\n",
      "3443/3443 [==============================] - 31s 9ms/sample - loss: 0.0019 - accuracy: 1.0000 - val_loss: 1.1910 - val_accuracy: 0.7337\n",
      "Epoch 9/10\n",
      "3443/3443 [==============================] - 30s 9ms/sample - loss: 0.0013 - accuracy: 1.0000 - val_loss: 1.2430 - val_accuracy: 0.7329\n",
      "Epoch 10/10\n",
      "3443/3443 [==============================] - 30s 9ms/sample - loss: 9.3235e-04 - accuracy: 1.0000 - val_loss: 1.2746 - val_accuracy: 0.7342\n",
      "Training Accuracy: 1.0000\n",
      "Testing Accuracy:  0.7342\n"
     ]
    }
   ],
   "source": [
    "history = model.fit(X_train, newsgroup_train.target,\n",
    "                    epochs=10,\n",
    "                    verbose=True,\n",
    "                    validation_data=(X_test, newsgroup_test.target),\n",
    "                    batch_size=10)\n",
    "loss, accuracy = model.evaluate(X_train, newsgroup_train.target, verbose=False)\n",
    "print(\"Training Accuracy: {:.4f}\".format(accuracy))\n",
    "loss, accuracy = model.evaluate(X_test, newsgroup_test.target, verbose=False)\n",
    "print(\"Testing Accuracy:  {:.4f}\".format(accuracy))"
   ]
  },
  {
   "cell_type": "code",
   "execution_count": 18,
   "metadata": {},
   "outputs": [
    {
     "data": {
      "image/png": "[encoded data removed]",
      "text/plain": [
       "<Figure size 432x288 with 1 Axes>"
      ]
     },
     "metadata": {
      "needs_background": "light"
     },
     "output_type": "display_data"
    },
    {
     "data": {
      "image/png": "[encoded data removed]",
      "text/plain": [
       "<Figure size 432x288 with 1 Axes>"
      ]
     },
     "metadata": {
      "needs_background": "light"
     },
     "output_type": "display_data"
    }
   ],
   "source": [
    "# Plot training & validation accuracy values\n",
    "plt.plot(history.history['accuracy'])\n",
    "plt.plot(history.history['val_accuracy'])\n",
    "plt.title('Model accuracy')\n",
    "plt.ylabel('Accuracy')\n",
    "plt.xlabel('Epoch')\n",
    "plt.legend(['Train', 'Test'], loc='upper left')\n",
    "plt.show()\n",
    "\n",
    "# Plot training & validation loss values\n",
    "plt.plot(history.history['loss'])\n",
    "plt.plot(history.history['val_loss'])\n",
    "plt.title('Model loss')\n",
    "plt.ylabel('Loss')\n",
    "plt.xlabel('Epoch')\n",
    "plt.legend(['Train', 'Test'], loc='upper left')\n",
    "plt.show()"
   ]
  }
 ],
 "metadata": {
  "kernelspec": {
   "display_name": "Python 3",
   "language": "python",
   "name": "python3"
  },
  "language_info": {
   "codemirror_mode": {
    "name": "ipython",
    "version": 3
   },
   "file_extension": ".py",
   "mimetype": "text/x-python",
   "name": "python",
   "nbconvert_exporter": "python",
   "pygments_lexer": "ipython3",
   "version": "3.7.0"
  }
 },
 "nbformat": 4,
 "nbformat_minor": 4
}
